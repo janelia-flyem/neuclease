{
 "cells": [
  {
   "cell_type": "code",
   "execution_count": 409,
   "metadata": {},
   "outputs": [
    {
     "data": {
      "text/html": [
       "\n",
       "    <div class=\"bk-root\">\n",
       "        <a href=\"https://bokeh.org\" target=\"_blank\" class=\"bk-logo bk-logo-small bk-logo-notebook\"></a>\n",
       "        <span id=\"34429\">Loading BokehJS ...</span>\n",
       "    </div>"
      ]
     },
     "metadata": {},
     "output_type": "display_data"
    },
    {
     "data": {
      "application/javascript": [
       "\n",
       "(function(root) {\n",
       "  function now() {\n",
       "    return new Date();\n",
       "  }\n",
       "\n",
       "  var force = true;\n",
       "\n",
       "  if (typeof root._bokeh_onload_callbacks === \"undefined\" || force === true) {\n",
       "    root._bokeh_onload_callbacks = [];\n",
       "    root._bokeh_is_loading = undefined;\n",
       "  }\n",
       "\n",
       "  var JS_MIME_TYPE = 'application/javascript';\n",
       "  var HTML_MIME_TYPE = 'text/html';\n",
       "  var EXEC_MIME_TYPE = 'application/vnd.bokehjs_exec.v0+json';\n",
       "  var CLASS_NAME = 'output_bokeh rendered_html';\n",
       "\n",
       "  /**\n",
       "   * Render data to the DOM node\n",
       "   */\n",
       "  function render(props, node) {\n",
       "    var script = document.createElement(\"script\");\n",
       "    node.appendChild(script);\n",
       "  }\n",
       "\n",
       "  /**\n",
       "   * Handle when an output is cleared or removed\n",
       "   */\n",
       "  function handleClearOutput(event, handle) {\n",
       "    var cell = handle.cell;\n",
       "\n",
       "    var id = cell.output_area._bokeh_element_id;\n",
       "    var server_id = cell.output_area._bokeh_server_id;\n",
       "    // Clean up Bokeh references\n",
       "    if (id != null && id in Bokeh.index) {\n",
       "      Bokeh.index[id].model.document.clear();\n",
       "      delete Bokeh.index[id];\n",
       "    }\n",
       "\n",
       "    if (server_id !== undefined) {\n",
       "      // Clean up Bokeh references\n",
       "      var cmd = \"from bokeh.io.state import curstate; print(curstate().uuid_to_server['\" + server_id + \"'].get_sessions()[0].document.roots[0]._id)\";\n",
       "      cell.notebook.kernel.execute(cmd, {\n",
       "        iopub: {\n",
       "          output: function(msg) {\n",
       "            var id = msg.content.text.trim();\n",
       "            if (id in Bokeh.index) {\n",
       "              Bokeh.index[id].model.document.clear();\n",
       "              delete Bokeh.index[id];\n",
       "            }\n",
       "          }\n",
       "        }\n",
       "      });\n",
       "      // Destroy server and session\n",
       "      var cmd = \"import bokeh.io.notebook as ion; ion.destroy_server('\" + server_id + \"')\";\n",
       "      cell.notebook.kernel.execute(cmd);\n",
       "    }\n",
       "  }\n",
       "\n",
       "  /**\n",
       "   * Handle when a new output is added\n",
       "   */\n",
       "  function handleAddOutput(event, handle) {\n",
       "    var output_area = handle.output_area;\n",
       "    var output = handle.output;\n",
       "\n",
       "    // limit handleAddOutput to display_data with EXEC_MIME_TYPE content only\n",
       "    if ((output.output_type != \"display_data\") || (!output.data.hasOwnProperty(EXEC_MIME_TYPE))) {\n",
       "      return\n",
       "    }\n",
       "\n",
       "    var toinsert = output_area.element.find(\".\" + CLASS_NAME.split(' ')[0]);\n",
       "\n",
       "    if (output.metadata[EXEC_MIME_TYPE][\"id\"] !== undefined) {\n",
       "      toinsert[toinsert.length - 1].firstChild.textContent = output.data[JS_MIME_TYPE];\n",
       "      // store reference to embed id on output_area\n",
       "      output_area._bokeh_element_id = output.metadata[EXEC_MIME_TYPE][\"id\"];\n",
       "    }\n",
       "    if (output.metadata[EXEC_MIME_TYPE][\"server_id\"] !== undefined) {\n",
       "      var bk_div = document.createElement(\"div\");\n",
       "      bk_div.innerHTML = output.data[HTML_MIME_TYPE];\n",
       "      var script_attrs = bk_div.children[0].attributes;\n",
       "      for (var i = 0; i < script_attrs.length; i++) {\n",
       "        toinsert[toinsert.length - 1].firstChild.setAttribute(script_attrs[i].name, script_attrs[i].value);\n",
       "        toinsert[toinsert.length - 1].firstChild.textContent = bk_div.children[0].textContent\n",
       "      }\n",
       "      // store reference to server id on output_area\n",
       "      output_area._bokeh_server_id = output.metadata[EXEC_MIME_TYPE][\"server_id\"];\n",
       "    }\n",
       "  }\n",
       "\n",
       "  function register_renderer(events, OutputArea) {\n",
       "\n",
       "    function append_mime(data, metadata, element) {\n",
       "      // create a DOM node to render to\n",
       "      var toinsert = this.create_output_subarea(\n",
       "        metadata,\n",
       "        CLASS_NAME,\n",
       "        EXEC_MIME_TYPE\n",
       "      );\n",
       "      this.keyboard_manager.register_events(toinsert);\n",
       "      // Render to node\n",
       "      var props = {data: data, metadata: metadata[EXEC_MIME_TYPE]};\n",
       "      render(props, toinsert[toinsert.length - 1]);\n",
       "      element.append(toinsert);\n",
       "      return toinsert\n",
       "    }\n",
       "\n",
       "    /* Handle when an output is cleared or removed */\n",
       "    events.on('clear_output.CodeCell', handleClearOutput);\n",
       "    events.on('delete.Cell', handleClearOutput);\n",
       "\n",
       "    /* Handle when a new output is added */\n",
       "    events.on('output_added.OutputArea', handleAddOutput);\n",
       "\n",
       "    /**\n",
       "     * Register the mime type and append_mime function with output_area\n",
       "     */\n",
       "    OutputArea.prototype.register_mime_type(EXEC_MIME_TYPE, append_mime, {\n",
       "      /* Is output safe? */\n",
       "      safe: true,\n",
       "      /* Index of renderer in `output_area.display_order` */\n",
       "      index: 0\n",
       "    });\n",
       "  }\n",
       "\n",
       "  // register the mime type if in Jupyter Notebook environment and previously unregistered\n",
       "  if (root.Jupyter !== undefined) {\n",
       "    var events = require('base/js/events');\n",
       "    var OutputArea = require('notebook/js/outputarea').OutputArea;\n",
       "\n",
       "    if (OutputArea.prototype.mime_types().indexOf(EXEC_MIME_TYPE) == -1) {\n",
       "      register_renderer(events, OutputArea);\n",
       "    }\n",
       "  }\n",
       "\n",
       "  \n",
       "  if (typeof (root._bokeh_timeout) === \"undefined\" || force === true) {\n",
       "    root._bokeh_timeout = Date.now() + 5000;\n",
       "    root._bokeh_failed_load = false;\n",
       "  }\n",
       "\n",
       "  var NB_LOAD_WARNING = {'data': {'text/html':\n",
       "     \"<div style='background-color: #fdd'>\\n\"+\n",
       "     \"<p>\\n\"+\n",
       "     \"BokehJS does not appear to have successfully loaded. If loading BokehJS from CDN, this \\n\"+\n",
       "     \"may be due to a slow or bad network connection. Possible fixes:\\n\"+\n",
       "     \"</p>\\n\"+\n",
       "     \"<ul>\\n\"+\n",
       "     \"<li>re-rerun `output_notebook()` to attempt to load from CDN again, or</li>\\n\"+\n",
       "     \"<li>use INLINE resources instead, as so:</li>\\n\"+\n",
       "     \"</ul>\\n\"+\n",
       "     \"<code>\\n\"+\n",
       "     \"from bokeh.resources import INLINE\\n\"+\n",
       "     \"output_notebook(resources=INLINE)\\n\"+\n",
       "     \"</code>\\n\"+\n",
       "     \"</div>\"}};\n",
       "\n",
       "  function display_loaded() {\n",
       "    var el = document.getElementById(\"34429\");\n",
       "    if (el != null) {\n",
       "      el.textContent = \"BokehJS is loading...\";\n",
       "    }\n",
       "    if (root.Bokeh !== undefined) {\n",
       "      if (el != null) {\n",
       "        el.textContent = \"BokehJS \" + root.Bokeh.version + \" successfully loaded.\";\n",
       "      }\n",
       "    } else if (Date.now() < root._bokeh_timeout) {\n",
       "      setTimeout(display_loaded, 100)\n",
       "    }\n",
       "  }\n",
       "\n",
       "\n",
       "  function run_callbacks() {\n",
       "    try {\n",
       "      root._bokeh_onload_callbacks.forEach(function(callback) {\n",
       "        if (callback != null)\n",
       "          callback();\n",
       "      });\n",
       "    } finally {\n",
       "      delete root._bokeh_onload_callbacks\n",
       "    }\n",
       "    console.debug(\"Bokeh: all callbacks have finished\");\n",
       "  }\n",
       "\n",
       "  function load_libs(css_urls, js_urls, callback) {\n",
       "    if (css_urls == null) css_urls = [];\n",
       "    if (js_urls == null) js_urls = [];\n",
       "\n",
       "    root._bokeh_onload_callbacks.push(callback);\n",
       "    if (root._bokeh_is_loading > 0) {\n",
       "      console.debug(\"Bokeh: BokehJS is being loaded, scheduling callback at\", now());\n",
       "      return null;\n",
       "    }\n",
       "    if (js_urls == null || js_urls.length === 0) {\n",
       "      run_callbacks();\n",
       "      return null;\n",
       "    }\n",
       "    console.debug(\"Bokeh: BokehJS not loaded, scheduling load and callback at\", now());\n",
       "    root._bokeh_is_loading = css_urls.length + js_urls.length;\n",
       "\n",
       "    function on_load() {\n",
       "      root._bokeh_is_loading--;\n",
       "      if (root._bokeh_is_loading === 0) {\n",
       "        console.debug(\"Bokeh: all BokehJS libraries/stylesheets loaded\");\n",
       "        run_callbacks()\n",
       "      }\n",
       "    }\n",
       "\n",
       "    function on_error() {\n",
       "      console.error(\"failed to load \" + url);\n",
       "    }\n",
       "\n",
       "    for (var i = 0; i < css_urls.length; i++) {\n",
       "      var url = css_urls[i];\n",
       "      const element = document.createElement(\"link\");\n",
       "      element.onload = on_load;\n",
       "      element.onerror = on_error;\n",
       "      element.rel = \"stylesheet\";\n",
       "      element.type = \"text/css\";\n",
       "      element.href = url;\n",
       "      console.debug(\"Bokeh: injecting link tag for BokehJS stylesheet: \", url);\n",
       "      document.body.appendChild(element);\n",
       "    }\n",
       "\n",
       "    const hashes = {\"https://cdn.bokeh.org/bokeh/release/bokeh-2.2.3.min.js\": \"T2yuo9Oe71Cz/I4X9Ac5+gpEa5a8PpJCDlqKYO0CfAuEszu1JrXLl8YugMqYe3sM\", \"https://cdn.bokeh.org/bokeh/release/bokeh-widgets-2.2.3.min.js\": \"98GDGJ0kOMCUMUePhksaQ/GYgB3+NH9h996V88sh3aOiUNX3N+fLXAtry6xctSZ6\", \"https://cdn.bokeh.org/bokeh/release/bokeh-tables-2.2.3.min.js\": \"89bArO+nlbP3sgakeHjCo1JYxYR5wufVgA3IbUvDY+K7w4zyxJqssu7wVnfeKCq8\"};\n",
       "\n",
       "    for (var i = 0; i < js_urls.length; i++) {\n",
       "      var url = js_urls[i];\n",
       "      var element = document.createElement('script');\n",
       "      element.onload = on_load;\n",
       "      element.onerror = on_error;\n",
       "      element.async = false;\n",
       "      element.src = url;\n",
       "      if (url in hashes) {\n",
       "        element.crossOrigin = \"anonymous\";\n",
       "        element.integrity = \"sha384-\" + hashes[url];\n",
       "      }\n",
       "      console.debug(\"Bokeh: injecting script tag for BokehJS library: \", url);\n",
       "      document.head.appendChild(element);\n",
       "    }\n",
       "  };\n",
       "\n",
       "  function inject_raw_css(css) {\n",
       "    const element = document.createElement(\"style\");\n",
       "    element.appendChild(document.createTextNode(css));\n",
       "    document.body.appendChild(element);\n",
       "  }\n",
       "\n",
       "  \n",
       "  var js_urls = [\"https://cdn.bokeh.org/bokeh/release/bokeh-2.2.3.min.js\", \"https://cdn.bokeh.org/bokeh/release/bokeh-widgets-2.2.3.min.js\", \"https://cdn.bokeh.org/bokeh/release/bokeh-tables-2.2.3.min.js\", \"https://unpkg.com/@holoviz/panel@^0.9.7/dist/panel.min.js\"];\n",
       "  var css_urls = [];\n",
       "  \n",
       "\n",
       "  var inline_js = [\n",
       "    function(Bokeh) {\n",
       "      inject_raw_css(\".panel-widget-box {\\n\\tmin-height: 20px;\\n\\tbackground-color: #f5f5f5;\\n\\tborder: 1px solid #e3e3e3 !important;\\n\\tborder-radius: 4px;\\n\\t-webkit-box-shadow: inset 0 1px 1px rgba(0,0,0,.05);\\n\\tbox-shadow: inset 0 1px 1px rgba(0,0,0,.05);\\n\\toverflow-x: hidden;\\n\\toverflow-y: hidden;\\n}\\n\\n.scrollable {\\n  overflow: scroll;\\n}\\n\\nprogress {\\n\\tappearance: none;\\n\\t-moz-appearance: none;\\n\\t-webkit-appearance: none;\\n\\n\\tborder: none;\\n\\theight: 20px;\\n\\tbackground-color: whiteSmoke;\\n\\tborder-radius: 3px;\\n\\tbox-shadow: 0 2px 3px rgba(0,0,0,.5) inset;\\n\\tcolor: royalblue;\\n\\tposition: relative;\\n\\tmargin: 0 0 1.5em;\\n}\\n\\nprogress[value]::-webkit-progress-bar {\\n\\tbackground-color: whiteSmoke;\\n\\tborder-radius: 3px;\\n\\tbox-shadow: 0 2px 3px rgba(0,0,0,.5) inset;\\n}\\n\\nprogress[value]::-webkit-progress-value {\\n\\tposition: relative;\\n\\n\\tbackground-size: 35px 20px, 100% 100%, 100% 100%;\\n\\tborder-radius:3px;\\n}\\n\\nprogress.active:not([value])::before {\\n\\tbackground-position: 10%;\\n\\tanimation-name: stripes;\\n\\tanimation-duration: 3s;\\n\\tanimation-timing-function: linear;\\n\\tanimation-iteration-count: infinite;\\n}\\n\\nprogress[value]::-moz-progress-bar {\\n\\tbackground-size: 35px 20px, 100% 100%, 100% 100%;\\n\\tborder-radius:3px;\\n}\\n\\nprogress:not([value])::-moz-progress-bar {\\n\\tborder-radius:3px;\\n\\tbackground:\\n\\tlinear-gradient(-45deg, transparent 33%, rgba(0, 0, 0, 0.2) 33%, rgba(0, 0, 0, 0.2) 66%, transparent 66%) left/2.5em 1.5em;\\n\\n}\\n\\nprogress.active:not([value])::-moz-progress-bar {\\n\\tbackground-position: 10%;\\n\\tanimation-name: stripes;\\n\\tanimation-duration: 3s;\\n\\tanimation-timing-function: linear;\\n\\tanimation-iteration-count: infinite;\\n}\\n\\nprogress.active:not([value])::-webkit-progress-bar {\\n\\tbackground-position: 10%;\\n\\tanimation-name: stripes;\\n\\tanimation-duration: 3s;\\n\\tanimation-timing-function: linear;\\n\\tanimation-iteration-count: infinite;\\n}\\n\\nprogress.primary[value]::-webkit-progress-value { background-color: #007bff; }\\nprogress.primary:not([value])::before { background-color: #007bff; }\\nprogress.primary:not([value])::-webkit-progress-bar { background-color: #007bff; }\\nprogress.primary::-moz-progress-bar { background-color: #007bff; }\\n\\nprogress.secondary[value]::-webkit-progress-value { background-color: #6c757d; }\\nprogress.secondary:not([value])::before { background-color: #6c757d; }\\nprogress.secondary:not([value])::-webkit-progress-bar { background-color: #6c757d; }\\nprogress.secondary::-moz-progress-bar { background-color: #6c757d; }\\n\\nprogress.success[value]::-webkit-progress-value { background-color: #28a745; }\\nprogress.success:not([value])::before { background-color: #28a745; }\\nprogress.success:not([value])::-webkit-progress-bar { background-color: #28a745; }\\nprogress.success::-moz-progress-bar { background-color: #28a745; }\\n\\nprogress.danger[value]::-webkit-progress-value { background-color: #dc3545; }\\nprogress.danger:not([value])::before { background-color: #dc3545; }\\nprogress.danger:not([value])::-webkit-progress-bar { background-color: #dc3545; }\\nprogress.danger::-moz-progress-bar { background-color: #dc3545; }\\n\\nprogress.warning[value]::-webkit-progress-value { background-color: #ffc107; }\\nprogress.warning:not([value])::before { background-color: #ffc107; }\\nprogress.warning:not([value])::-webkit-progress-bar { background-color: #ffc107; }\\nprogress.warning::-moz-progress-bar { background-color: #ffc107; }\\n\\nprogress.info[value]::-webkit-progress-value { background-color: #17a2b8; }\\nprogress.info:not([value])::before { background-color: #17a2b8; }\\nprogress.info:not([value])::-webkit-progress-bar { background-color: #17a2b8; }\\nprogress.info::-moz-progress-bar { background-color: #17a2b8; }\\n\\nprogress.light[value]::-webkit-progress-value { background-color: #f8f9fa; }\\nprogress.light:not([value])::before { background-color: #f8f9fa; }\\nprogress.light:not([value])::-webkit-progress-bar { background-color: #f8f9fa; }\\nprogress.light::-moz-progress-bar { background-color: #f8f9fa; }\\n\\nprogress.dark[value]::-webkit-progress-value { background-color: #343a40; }\\nprogress.dark:not([value])::-webkit-progress-bar { background-color: #343a40; }\\nprogress.dark:not([value])::before { background-color: #343a40; }\\nprogress.dark::-moz-progress-bar { background-color: #343a40; }\\n\\nprogress:not([value])::-webkit-progress-bar {\\n\\tborder-radius: 3px;\\n\\tbackground:\\n\\tlinear-gradient(-45deg, transparent 33%, rgba(0, 0, 0, 0.2) 33%, rgba(0, 0, 0, 0.2) 66%, transparent 66%) left/2.5em 1.5em;\\n}\\nprogress:not([value])::before {\\n\\tcontent:\\\" \\\";\\n\\tposition:absolute;\\n\\theight: 20px;\\n\\ttop:0;\\n\\tleft:0;\\n\\tright:0;\\n\\tbottom:0;\\n\\tborder-radius: 3px;\\n\\tbackground:\\n\\tlinear-gradient(-45deg, transparent 33%, rgba(0, 0, 0, 0.2) 33%, rgba(0, 0, 0, 0.2) 66%, transparent 66%) left/2.5em 1.5em;\\n}\\n\\n@keyframes stripes {\\n  from {background-position: 0%}\\n  to {background-position: 100%}\\n}\\n\");\n",
       "    },\n",
       "    function(Bokeh) {\n",
       "      inject_raw_css(\".codehilite .hll { background-color: #ffffcc }\\n.codehilite  { background: #f8f8f8; }\\n.codehilite .c { color: #408080; font-style: italic } /* Comment */\\n.codehilite .err { border: 1px solid #FF0000 } /* Error */\\n.codehilite .k { color: #008000; font-weight: bold } /* Keyword */\\n.codehilite .o { color: #666666 } /* Operator */\\n.codehilite .ch { color: #408080; font-style: italic } /* Comment.Hashbang */\\n.codehilite .cm { color: #408080; font-style: italic } /* Comment.Multiline */\\n.codehilite .cp { color: #BC7A00 } /* Comment.Preproc */\\n.codehilite .cpf { color: #408080; font-style: italic } /* Comment.PreprocFile */\\n.codehilite .c1 { color: #408080; font-style: italic } /* Comment.Single */\\n.codehilite .cs { color: #408080; font-style: italic } /* Comment.Special */\\n.codehilite .gd { color: #A00000 } /* Generic.Deleted */\\n.codehilite .ge { font-style: italic } /* Generic.Emph */\\n.codehilite .gr { color: #FF0000 } /* Generic.Error */\\n.codehilite .gh { color: #000080; font-weight: bold } /* Generic.Heading */\\n.codehilite .gi { color: #00A000 } /* Generic.Inserted */\\n.codehilite .go { color: #888888 } /* Generic.Output */\\n.codehilite .gp { color: #000080; font-weight: bold } /* Generic.Prompt */\\n.codehilite .gs { font-weight: bold } /* Generic.Strong */\\n.codehilite .gu { color: #800080; font-weight: bold } /* Generic.Subheading */\\n.codehilite .gt { color: #0044DD } /* Generic.Traceback */\\n.codehilite .kc { color: #008000; font-weight: bold } /* Keyword.Constant */\\n.codehilite .kd { color: #008000; font-weight: bold } /* Keyword.Declaration */\\n.codehilite .kn { color: #008000; font-weight: bold } /* Keyword.Namespace */\\n.codehilite .kp { color: #008000 } /* Keyword.Pseudo */\\n.codehilite .kr { color: #008000; font-weight: bold } /* Keyword.Reserved */\\n.codehilite .kt { color: #B00040 } /* Keyword.Type */\\n.codehilite .m { color: #666666 } /* Literal.Number */\\n.codehilite .s { color: #BA2121 } /* Literal.String */\\n.codehilite .na { color: #7D9029 } /* Name.Attribute */\\n.codehilite .nb { color: #008000 } /* Name.Builtin */\\n.codehilite .nc { color: #0000FF; font-weight: bold } /* Name.Class */\\n.codehilite .no { color: #880000 } /* Name.Constant */\\n.codehilite .nd { color: #AA22FF } /* Name.Decorator */\\n.codehilite .ni { color: #999999; font-weight: bold } /* Name.Entity */\\n.codehilite .ne { color: #D2413A; font-weight: bold } /* Name.Exception */\\n.codehilite .nf { color: #0000FF } /* Name.Function */\\n.codehilite .nl { color: #A0A000 } /* Name.Label */\\n.codehilite .nn { color: #0000FF; font-weight: bold } /* Name.Namespace */\\n.codehilite .nt { color: #008000; font-weight: bold } /* Name.Tag */\\n.codehilite .nv { color: #19177C } /* Name.Variable */\\n.codehilite .ow { color: #AA22FF; font-weight: bold } /* Operator.Word */\\n.codehilite .w { color: #bbbbbb } /* Text.Whitespace */\\n.codehilite .mb { color: #666666 } /* Literal.Number.Bin */\\n.codehilite .mf { color: #666666 } /* Literal.Number.Float */\\n.codehilite .mh { color: #666666 } /* Literal.Number.Hex */\\n.codehilite .mi { color: #666666 } /* Literal.Number.Integer */\\n.codehilite .mo { color: #666666 } /* Literal.Number.Oct */\\n.codehilite .sa { color: #BA2121 } /* Literal.String.Affix */\\n.codehilite .sb { color: #BA2121 } /* Literal.String.Backtick */\\n.codehilite .sc { color: #BA2121 } /* Literal.String.Char */\\n.codehilite .dl { color: #BA2121 } /* Literal.String.Delimiter */\\n.codehilite .sd { color: #BA2121; font-style: italic } /* Literal.String.Doc */\\n.codehilite .s2 { color: #BA2121 } /* Literal.String.Double */\\n.codehilite .se { color: #BB6622; font-weight: bold } /* Literal.String.Escape */\\n.codehilite .sh { color: #BA2121 } /* Literal.String.Heredoc */\\n.codehilite .si { color: #BB6688; font-weight: bold } /* Literal.String.Interpol */\\n.codehilite .sx { color: #008000 } /* Literal.String.Other */\\n.codehilite .sr { color: #BB6688 } /* Literal.String.Regex */\\n.codehilite .s1 { color: #BA2121 } /* Literal.String.Single */\\n.codehilite .ss { color: #19177C } /* Literal.String.Symbol */\\n.codehilite .bp { color: #008000 } /* Name.Builtin.Pseudo */\\n.codehilite .fm { color: #0000FF } /* Name.Function.Magic */\\n.codehilite .vc { color: #19177C } /* Name.Variable.Class */\\n.codehilite .vg { color: #19177C } /* Name.Variable.Global */\\n.codehilite .vi { color: #19177C } /* Name.Variable.Instance */\\n.codehilite .vm { color: #19177C } /* Name.Variable.Magic */\\n.codehilite .il { color: #666666 } /* Literal.Number.Integer.Long */\\n\\n.markdown h1 { margin-block-start: 0.34em }\\n.markdown h2 { margin-block-start: 0.42em }\\n.markdown h3 { margin-block-start: 0.5em }\\n.markdown h4 { margin-block-start: 0.67em }\\n.markdown h5 { margin-block-start: 0.84em }\\n.markdown h6 { margin-block-start: 1.17em }\\n.markdown ul { padding-inline-start: 2em }\\n.markdown ol { padding-inline-start: 2em }\\n.markdown strong { font-weight: 600 }\\n.markdown a { color: -webkit-link }\\n.markdown a { color: -moz-hyperlinkText }\\n\");\n",
       "    },\n",
       "    function(Bokeh) {\n",
       "      inject_raw_css(\".json-formatter-row {\\n  font-family: monospace;\\n}\\n.json-formatter-row,\\n.json-formatter-row a,\\n.json-formatter-row a:hover {\\n  color: black;\\n  text-decoration: none;\\n}\\n.json-formatter-row .json-formatter-row {\\n  margin-left: 1rem;\\n}\\n.json-formatter-row .json-formatter-children.json-formatter-empty {\\n  opacity: 0.5;\\n  margin-left: 1rem;\\n}\\n.json-formatter-row .json-formatter-children.json-formatter-empty:after {\\n  display: none;\\n}\\n.json-formatter-row .json-formatter-children.json-formatter-empty.json-formatter-object:after {\\n  content: \\\"No properties\\\";\\n}\\n.json-formatter-row .json-formatter-children.json-formatter-empty.json-formatter-array:after {\\n  content: \\\"[]\\\";\\n}\\n.json-formatter-row .json-formatter-string,\\n.json-formatter-row .json-formatter-stringifiable {\\n  color: green;\\n  white-space: pre;\\n  word-wrap: break-word;\\n}\\n.json-formatter-row .json-formatter-number {\\n  color: blue;\\n}\\n.json-formatter-row .json-formatter-boolean {\\n  color: red;\\n}\\n.json-formatter-row .json-formatter-null {\\n  color: #855A00;\\n}\\n.json-formatter-row .json-formatter-undefined {\\n  color: #ca0b69;\\n}\\n.json-formatter-row .json-formatter-function {\\n  color: #FF20ED;\\n}\\n.json-formatter-row .json-formatter-date {\\n  background-color: rgba(0, 0, 0, 0.05);\\n}\\n.json-formatter-row .json-formatter-url {\\n  text-decoration: underline;\\n  color: blue;\\n  cursor: pointer;\\n}\\n.json-formatter-row .json-formatter-bracket {\\n  color: blue;\\n}\\n.json-formatter-row .json-formatter-key {\\n  color: #00008B;\\n  padding-right: 0.2rem;\\n}\\n.json-formatter-row .json-formatter-toggler-link {\\n  cursor: pointer;\\n}\\n.json-formatter-row .json-formatter-toggler {\\n  line-height: 1.2rem;\\n  font-size: 0.7rem;\\n  vertical-align: middle;\\n  opacity: 0.6;\\n  cursor: pointer;\\n  padding-right: 0.2rem;\\n}\\n.json-formatter-row .json-formatter-toggler:after {\\n  display: inline-block;\\n  transition: transform 100ms ease-in;\\n  content: \\\"\\\\25BA\\\";\\n}\\n.json-formatter-row > a > .json-formatter-preview-text {\\n  opacity: 0;\\n  transition: opacity 0.15s ease-in;\\n  font-style: italic;\\n}\\n.json-formatter-row:hover > a > .json-formatter-preview-text {\\n  opacity: 0.6;\\n}\\n.json-formatter-row.json-formatter-open > .json-formatter-toggler-link .json-formatter-toggler:after {\\n  transform: rotate(90deg);\\n}\\n.json-formatter-row.json-formatter-open > .json-formatter-children:after {\\n  display: inline-block;\\n}\\n.json-formatter-row.json-formatter-open > a > .json-formatter-preview-text {\\n  display: none;\\n}\\n.json-formatter-row.json-formatter-open.json-formatter-empty:after {\\n  display: block;\\n}\\n.json-formatter-dark.json-formatter-row {\\n  font-family: monospace;\\n}\\n.json-formatter-dark.json-formatter-row,\\n.json-formatter-dark.json-formatter-row a,\\n.json-formatter-dark.json-formatter-row a:hover {\\n  color: white;\\n  text-decoration: none;\\n}\\n.json-formatter-dark.json-formatter-row .json-formatter-row {\\n  margin-left: 1rem;\\n}\\n.json-formatter-dark.json-formatter-row .json-formatter-children.json-formatter-empty {\\n  opacity: 0.5;\\n  margin-left: 1rem;\\n}\\n.json-formatter-dark.json-formatter-row .json-formatter-children.json-formatter-empty:after {\\n  display: none;\\n}\\n.json-formatter-dark.json-formatter-row .json-formatter-children.json-formatter-empty.json-formatter-object:after {\\n  content: \\\"No properties\\\";\\n}\\n.json-formatter-dark.json-formatter-row .json-formatter-children.json-formatter-empty.json-formatter-array:after {\\n  content: \\\"[]\\\";\\n}\\n.json-formatter-dark.json-formatter-row .json-formatter-string,\\n.json-formatter-dark.json-formatter-row .json-formatter-stringifiable {\\n  color: #31F031;\\n  white-space: pre;\\n  word-wrap: break-word;\\n}\\n.json-formatter-dark.json-formatter-row .json-formatter-number {\\n  color: #66C2FF;\\n}\\n.json-formatter-dark.json-formatter-row .json-formatter-boolean {\\n  color: #EC4242;\\n}\\n.json-formatter-dark.json-formatter-row .json-formatter-null {\\n  color: #EEC97D;\\n}\\n.json-formatter-dark.json-formatter-row .json-formatter-undefined {\\n  color: #ef8fbe;\\n}\\n.json-formatter-dark.json-formatter-row .json-formatter-function {\\n  color: #FD48CB;\\n}\\n.json-formatter-dark.json-formatter-row .json-formatter-date {\\n  background-color: rgba(255, 255, 255, 0.05);\\n}\\n.json-formatter-dark.json-formatter-row .json-formatter-url {\\n  text-decoration: underline;\\n  color: #027BFF;\\n  cursor: pointer;\\n}\\n.json-formatter-dark.json-formatter-row .json-formatter-bracket {\\n  color: #9494FF;\\n}\\n.json-formatter-dark.json-formatter-row .json-formatter-key {\\n  color: #23A0DB;\\n  padding-right: 0.2rem;\\n}\\n.json-formatter-dark.json-formatter-row .json-formatter-toggler-link {\\n  cursor: pointer;\\n}\\n.json-formatter-dark.json-formatter-row .json-formatter-toggler {\\n  line-height: 1.2rem;\\n  font-size: 0.7rem;\\n  vertical-align: middle;\\n  opacity: 0.6;\\n  cursor: pointer;\\n  padding-right: 0.2rem;\\n}\\n.json-formatter-dark.json-formatter-row .json-formatter-toggler:after {\\n  display: inline-block;\\n  transition: transform 100ms ease-in;\\n  content: \\\"\\\\25BA\\\";\\n}\\n.json-formatter-dark.json-formatter-row > a > .json-formatter-preview-text {\\n  opacity: 0;\\n  transition: opacity 0.15s ease-in;\\n  font-style: italic;\\n}\\n.json-formatter-dark.json-formatter-row:hover > a > .json-formatter-preview-text {\\n  opacity: 0.6;\\n}\\n.json-formatter-dark.json-formatter-row.json-formatter-open > .json-formatter-toggler-link .json-formatter-toggler:after {\\n  transform: rotate(90deg);\\n}\\n.json-formatter-dark.json-formatter-row.json-formatter-open > .json-formatter-children:after {\\n  display: inline-block;\\n}\\n.json-formatter-dark.json-formatter-row.json-formatter-open > a > .json-formatter-preview-text {\\n  display: none;\\n}\\n.json-formatter-dark.json-formatter-row.json-formatter-open.json-formatter-empty:after {\\n  display: block;\\n}\\n\");\n",
       "    },\n",
       "    function(Bokeh) {\n",
       "      inject_raw_css(\"table.panel-df {\\n    margin-left: auto;\\n    margin-right: auto;\\n    border: none;\\n    border-collapse: collapse;\\n    border-spacing: 0;\\n    color: black;\\n    font-size: 12px;\\n    table-layout: fixed;\\n    width: 100%;\\n}\\n\\n.panel-df tr, .panel-df th, .panel-df td {\\n    text-align: right;\\n    vertical-align: middle;\\n    padding: 0.5em 0.5em !important;\\n    line-height: normal;\\n    white-space: normal;\\n    max-width: none;\\n    border: none;\\n}\\n\\n.panel-df tbody {\\n    display: table-row-group;\\n    vertical-align: middle;\\n    border-color: inherit;\\n}\\n\\n.panel-df tbody tr:nth-child(odd) {\\n    background: #f5f5f5;\\n}\\n\\n.panel-df thead {\\n    border-bottom: 1px solid black;\\n    vertical-align: bottom;\\n}\\n\\n.panel-df tr:hover {\\n    background: lightblue !important;\\n    cursor: pointer;\\n}\\n\");\n",
       "    },\n",
       "    function(Bokeh) {\n",
       "      Bokeh.set_log_level(\"info\");\n",
       "    },\n",
       "    function(Bokeh) {\n",
       "    \n",
       "    \n",
       "    }\n",
       "  ];\n",
       "\n",
       "  function run_inline_js() {\n",
       "    \n",
       "    if (root.Bokeh !== undefined || force === true) {\n",
       "      \n",
       "    for (var i = 0; i < inline_js.length; i++) {\n",
       "      inline_js[i].call(root, root.Bokeh);\n",
       "    }\n",
       "    if (force === true) {\n",
       "        display_loaded();\n",
       "      }} else if (Date.now() < root._bokeh_timeout) {\n",
       "      setTimeout(run_inline_js, 100);\n",
       "    } else if (!root._bokeh_failed_load) {\n",
       "      console.log(\"Bokeh: BokehJS failed to load within specified timeout.\");\n",
       "      root._bokeh_failed_load = true;\n",
       "    } else if (force !== true) {\n",
       "      var cell = $(document.getElementById(\"34429\")).parents('.cell').data().cell;\n",
       "      cell.output_area.append_execute_result(NB_LOAD_WARNING)\n",
       "    }\n",
       "\n",
       "  }\n",
       "\n",
       "  if (root._bokeh_is_loading === 0) {\n",
       "    console.debug(\"Bokeh: BokehJS loaded, going straight to plotting\");\n",
       "    run_inline_js();\n",
       "  } else {\n",
       "    load_libs(css_urls, js_urls, function() {\n",
       "      console.debug(\"Bokeh: BokehJS plotting callback run at\", now());\n",
       "      run_inline_js();\n",
       "    });\n",
       "  }\n",
       "}(window));"
      ],
      "application/vnd.bokehjs_load.v0+json": "\n(function(root) {\n  function now() {\n    return new Date();\n  }\n\n  var force = true;\n\n  if (typeof root._bokeh_onload_callbacks === \"undefined\" || force === true) {\n    root._bokeh_onload_callbacks = [];\n    root._bokeh_is_loading = undefined;\n  }\n\n  \n\n  \n  if (typeof (root._bokeh_timeout) === \"undefined\" || force === true) {\n    root._bokeh_timeout = Date.now() + 5000;\n    root._bokeh_failed_load = false;\n  }\n\n  var NB_LOAD_WARNING = {'data': {'text/html':\n     \"<div style='background-color: #fdd'>\\n\"+\n     \"<p>\\n\"+\n     \"BokehJS does not appear to have successfully loaded. If loading BokehJS from CDN, this \\n\"+\n     \"may be due to a slow or bad network connection. Possible fixes:\\n\"+\n     \"</p>\\n\"+\n     \"<ul>\\n\"+\n     \"<li>re-rerun `output_notebook()` to attempt to load from CDN again, or</li>\\n\"+\n     \"<li>use INLINE resources instead, as so:</li>\\n\"+\n     \"</ul>\\n\"+\n     \"<code>\\n\"+\n     \"from bokeh.resources import INLINE\\n\"+\n     \"output_notebook(resources=INLINE)\\n\"+\n     \"</code>\\n\"+\n     \"</div>\"}};\n\n  function display_loaded() {\n    var el = document.getElementById(\"34429\");\n    if (el != null) {\n      el.textContent = \"BokehJS is loading...\";\n    }\n    if (root.Bokeh !== undefined) {\n      if (el != null) {\n        el.textContent = \"BokehJS \" + root.Bokeh.version + \" successfully loaded.\";\n      }\n    } else if (Date.now() < root._bokeh_timeout) {\n      setTimeout(display_loaded, 100)\n    }\n  }\n\n\n  function run_callbacks() {\n    try {\n      root._bokeh_onload_callbacks.forEach(function(callback) {\n        if (callback != null)\n          callback();\n      });\n    } finally {\n      delete root._bokeh_onload_callbacks\n    }\n    console.debug(\"Bokeh: all callbacks have finished\");\n  }\n\n  function load_libs(css_urls, js_urls, callback) {\n    if (css_urls == null) css_urls = [];\n    if (js_urls == null) js_urls = [];\n\n    root._bokeh_onload_callbacks.push(callback);\n    if (root._bokeh_is_loading > 0) {\n      console.debug(\"Bokeh: BokehJS is being loaded, scheduling callback at\", now());\n      return null;\n    }\n    if (js_urls == null || js_urls.length === 0) {\n      run_callbacks();\n      return null;\n    }\n    console.debug(\"Bokeh: BokehJS not loaded, scheduling load and callback at\", now());\n    root._bokeh_is_loading = css_urls.length + js_urls.length;\n\n    function on_load() {\n      root._bokeh_is_loading--;\n      if (root._bokeh_is_loading === 0) {\n        console.debug(\"Bokeh: all BokehJS libraries/stylesheets loaded\");\n        run_callbacks()\n      }\n    }\n\n    function on_error() {\n      console.error(\"failed to load \" + url);\n    }\n\n    for (var i = 0; i < css_urls.length; i++) {\n      var url = css_urls[i];\n      const element = document.createElement(\"link\");\n      element.onload = on_load;\n      element.onerror = on_error;\n      element.rel = \"stylesheet\";\n      element.type = \"text/css\";\n      element.href = url;\n      console.debug(\"Bokeh: injecting link tag for BokehJS stylesheet: \", url);\n      document.body.appendChild(element);\n    }\n\n    const hashes = {\"https://cdn.bokeh.org/bokeh/release/bokeh-2.2.3.min.js\": \"T2yuo9Oe71Cz/I4X9Ac5+gpEa5a8PpJCDlqKYO0CfAuEszu1JrXLl8YugMqYe3sM\", \"https://cdn.bokeh.org/bokeh/release/bokeh-widgets-2.2.3.min.js\": \"98GDGJ0kOMCUMUePhksaQ/GYgB3+NH9h996V88sh3aOiUNX3N+fLXAtry6xctSZ6\", \"https://cdn.bokeh.org/bokeh/release/bokeh-tables-2.2.3.min.js\": \"89bArO+nlbP3sgakeHjCo1JYxYR5wufVgA3IbUvDY+K7w4zyxJqssu7wVnfeKCq8\"};\n\n    for (var i = 0; i < js_urls.length; i++) {\n      var url = js_urls[i];\n      var element = document.createElement('script');\n      element.onload = on_load;\n      element.onerror = on_error;\n      element.async = false;\n      element.src = url;\n      if (url in hashes) {\n        element.crossOrigin = \"anonymous\";\n        element.integrity = \"sha384-\" + hashes[url];\n      }\n      console.debug(\"Bokeh: injecting script tag for BokehJS library: \", url);\n      document.head.appendChild(element);\n    }\n  };\n\n  function inject_raw_css(css) {\n    const element = document.createElement(\"style\");\n    element.appendChild(document.createTextNode(css));\n    document.body.appendChild(element);\n  }\n\n  \n  var js_urls = [\"https://cdn.bokeh.org/bokeh/release/bokeh-2.2.3.min.js\", \"https://cdn.bokeh.org/bokeh/release/bokeh-widgets-2.2.3.min.js\", \"https://cdn.bokeh.org/bokeh/release/bokeh-tables-2.2.3.min.js\", \"https://unpkg.com/@holoviz/panel@^0.9.7/dist/panel.min.js\"];\n  var css_urls = [];\n  \n\n  var inline_js = [\n    function(Bokeh) {\n      inject_raw_css(\".panel-widget-box {\\n\\tmin-height: 20px;\\n\\tbackground-color: #f5f5f5;\\n\\tborder: 1px solid #e3e3e3 !important;\\n\\tborder-radius: 4px;\\n\\t-webkit-box-shadow: inset 0 1px 1px rgba(0,0,0,.05);\\n\\tbox-shadow: inset 0 1px 1px rgba(0,0,0,.05);\\n\\toverflow-x: hidden;\\n\\toverflow-y: hidden;\\n}\\n\\n.scrollable {\\n  overflow: scroll;\\n}\\n\\nprogress {\\n\\tappearance: none;\\n\\t-moz-appearance: none;\\n\\t-webkit-appearance: none;\\n\\n\\tborder: none;\\n\\theight: 20px;\\n\\tbackground-color: whiteSmoke;\\n\\tborder-radius: 3px;\\n\\tbox-shadow: 0 2px 3px rgba(0,0,0,.5) inset;\\n\\tcolor: royalblue;\\n\\tposition: relative;\\n\\tmargin: 0 0 1.5em;\\n}\\n\\nprogress[value]::-webkit-progress-bar {\\n\\tbackground-color: whiteSmoke;\\n\\tborder-radius: 3px;\\n\\tbox-shadow: 0 2px 3px rgba(0,0,0,.5) inset;\\n}\\n\\nprogress[value]::-webkit-progress-value {\\n\\tposition: relative;\\n\\n\\tbackground-size: 35px 20px, 100% 100%, 100% 100%;\\n\\tborder-radius:3px;\\n}\\n\\nprogress.active:not([value])::before {\\n\\tbackground-position: 10%;\\n\\tanimation-name: stripes;\\n\\tanimation-duration: 3s;\\n\\tanimation-timing-function: linear;\\n\\tanimation-iteration-count: infinite;\\n}\\n\\nprogress[value]::-moz-progress-bar {\\n\\tbackground-size: 35px 20px, 100% 100%, 100% 100%;\\n\\tborder-radius:3px;\\n}\\n\\nprogress:not([value])::-moz-progress-bar {\\n\\tborder-radius:3px;\\n\\tbackground:\\n\\tlinear-gradient(-45deg, transparent 33%, rgba(0, 0, 0, 0.2) 33%, rgba(0, 0, 0, 0.2) 66%, transparent 66%) left/2.5em 1.5em;\\n\\n}\\n\\nprogress.active:not([value])::-moz-progress-bar {\\n\\tbackground-position: 10%;\\n\\tanimation-name: stripes;\\n\\tanimation-duration: 3s;\\n\\tanimation-timing-function: linear;\\n\\tanimation-iteration-count: infinite;\\n}\\n\\nprogress.active:not([value])::-webkit-progress-bar {\\n\\tbackground-position: 10%;\\n\\tanimation-name: stripes;\\n\\tanimation-duration: 3s;\\n\\tanimation-timing-function: linear;\\n\\tanimation-iteration-count: infinite;\\n}\\n\\nprogress.primary[value]::-webkit-progress-value { background-color: #007bff; }\\nprogress.primary:not([value])::before { background-color: #007bff; }\\nprogress.primary:not([value])::-webkit-progress-bar { background-color: #007bff; }\\nprogress.primary::-moz-progress-bar { background-color: #007bff; }\\n\\nprogress.secondary[value]::-webkit-progress-value { background-color: #6c757d; }\\nprogress.secondary:not([value])::before { background-color: #6c757d; }\\nprogress.secondary:not([value])::-webkit-progress-bar { background-color: #6c757d; }\\nprogress.secondary::-moz-progress-bar { background-color: #6c757d; }\\n\\nprogress.success[value]::-webkit-progress-value { background-color: #28a745; }\\nprogress.success:not([value])::before { background-color: #28a745; }\\nprogress.success:not([value])::-webkit-progress-bar { background-color: #28a745; }\\nprogress.success::-moz-progress-bar { background-color: #28a745; }\\n\\nprogress.danger[value]::-webkit-progress-value { background-color: #dc3545; }\\nprogress.danger:not([value])::before { background-color: #dc3545; }\\nprogress.danger:not([value])::-webkit-progress-bar { background-color: #dc3545; }\\nprogress.danger::-moz-progress-bar { background-color: #dc3545; }\\n\\nprogress.warning[value]::-webkit-progress-value { background-color: #ffc107; }\\nprogress.warning:not([value])::before { background-color: #ffc107; }\\nprogress.warning:not([value])::-webkit-progress-bar { background-color: #ffc107; }\\nprogress.warning::-moz-progress-bar { background-color: #ffc107; }\\n\\nprogress.info[value]::-webkit-progress-value { background-color: #17a2b8; }\\nprogress.info:not([value])::before { background-color: #17a2b8; }\\nprogress.info:not([value])::-webkit-progress-bar { background-color: #17a2b8; }\\nprogress.info::-moz-progress-bar { background-color: #17a2b8; }\\n\\nprogress.light[value]::-webkit-progress-value { background-color: #f8f9fa; }\\nprogress.light:not([value])::before { background-color: #f8f9fa; }\\nprogress.light:not([value])::-webkit-progress-bar { background-color: #f8f9fa; }\\nprogress.light::-moz-progress-bar { background-color: #f8f9fa; }\\n\\nprogress.dark[value]::-webkit-progress-value { background-color: #343a40; }\\nprogress.dark:not([value])::-webkit-progress-bar { background-color: #343a40; }\\nprogress.dark:not([value])::before { background-color: #343a40; }\\nprogress.dark::-moz-progress-bar { background-color: #343a40; }\\n\\nprogress:not([value])::-webkit-progress-bar {\\n\\tborder-radius: 3px;\\n\\tbackground:\\n\\tlinear-gradient(-45deg, transparent 33%, rgba(0, 0, 0, 0.2) 33%, rgba(0, 0, 0, 0.2) 66%, transparent 66%) left/2.5em 1.5em;\\n}\\nprogress:not([value])::before {\\n\\tcontent:\\\" \\\";\\n\\tposition:absolute;\\n\\theight: 20px;\\n\\ttop:0;\\n\\tleft:0;\\n\\tright:0;\\n\\tbottom:0;\\n\\tborder-radius: 3px;\\n\\tbackground:\\n\\tlinear-gradient(-45deg, transparent 33%, rgba(0, 0, 0, 0.2) 33%, rgba(0, 0, 0, 0.2) 66%, transparent 66%) left/2.5em 1.5em;\\n}\\n\\n@keyframes stripes {\\n  from {background-position: 0%}\\n  to {background-position: 100%}\\n}\\n\");\n    },\n    function(Bokeh) {\n      inject_raw_css(\".codehilite .hll { background-color: #ffffcc }\\n.codehilite  { background: #f8f8f8; }\\n.codehilite .c { color: #408080; font-style: italic } /* Comment */\\n.codehilite .err { border: 1px solid #FF0000 } /* Error */\\n.codehilite .k { color: #008000; font-weight: bold } /* Keyword */\\n.codehilite .o { color: #666666 } /* Operator */\\n.codehilite .ch { color: #408080; font-style: italic } /* Comment.Hashbang */\\n.codehilite .cm { color: #408080; font-style: italic } /* Comment.Multiline */\\n.codehilite .cp { color: #BC7A00 } /* Comment.Preproc */\\n.codehilite .cpf { color: #408080; font-style: italic } /* Comment.PreprocFile */\\n.codehilite .c1 { color: #408080; font-style: italic } /* Comment.Single */\\n.codehilite .cs { color: #408080; font-style: italic } /* Comment.Special */\\n.codehilite .gd { color: #A00000 } /* Generic.Deleted */\\n.codehilite .ge { font-style: italic } /* Generic.Emph */\\n.codehilite .gr { color: #FF0000 } /* Generic.Error */\\n.codehilite .gh { color: #000080; font-weight: bold } /* Generic.Heading */\\n.codehilite .gi { color: #00A000 } /* Generic.Inserted */\\n.codehilite .go { color: #888888 } /* Generic.Output */\\n.codehilite .gp { color: #000080; font-weight: bold } /* Generic.Prompt */\\n.codehilite .gs { font-weight: bold } /* Generic.Strong */\\n.codehilite .gu { color: #800080; font-weight: bold } /* Generic.Subheading */\\n.codehilite .gt { color: #0044DD } /* Generic.Traceback */\\n.codehilite .kc { color: #008000; font-weight: bold } /* Keyword.Constant */\\n.codehilite .kd { color: #008000; font-weight: bold } /* Keyword.Declaration */\\n.codehilite .kn { color: #008000; font-weight: bold } /* Keyword.Namespace */\\n.codehilite .kp { color: #008000 } /* Keyword.Pseudo */\\n.codehilite .kr { color: #008000; font-weight: bold } /* Keyword.Reserved */\\n.codehilite .kt { color: #B00040 } /* Keyword.Type */\\n.codehilite .m { color: #666666 } /* Literal.Number */\\n.codehilite .s { color: #BA2121 } /* Literal.String */\\n.codehilite .na { color: #7D9029 } /* Name.Attribute */\\n.codehilite .nb { color: #008000 } /* Name.Builtin */\\n.codehilite .nc { color: #0000FF; font-weight: bold } /* Name.Class */\\n.codehilite .no { color: #880000 } /* Name.Constant */\\n.codehilite .nd { color: #AA22FF } /* Name.Decorator */\\n.codehilite .ni { color: #999999; font-weight: bold } /* Name.Entity */\\n.codehilite .ne { color: #D2413A; font-weight: bold } /* Name.Exception */\\n.codehilite .nf { color: #0000FF } /* Name.Function */\\n.codehilite .nl { color: #A0A000 } /* Name.Label */\\n.codehilite .nn { color: #0000FF; font-weight: bold } /* Name.Namespace */\\n.codehilite .nt { color: #008000; font-weight: bold } /* Name.Tag */\\n.codehilite .nv { color: #19177C } /* Name.Variable */\\n.codehilite .ow { color: #AA22FF; font-weight: bold } /* Operator.Word */\\n.codehilite .w { color: #bbbbbb } /* Text.Whitespace */\\n.codehilite .mb { color: #666666 } /* Literal.Number.Bin */\\n.codehilite .mf { color: #666666 } /* Literal.Number.Float */\\n.codehilite .mh { color: #666666 } /* Literal.Number.Hex */\\n.codehilite .mi { color: #666666 } /* Literal.Number.Integer */\\n.codehilite .mo { color: #666666 } /* Literal.Number.Oct */\\n.codehilite .sa { color: #BA2121 } /* Literal.String.Affix */\\n.codehilite .sb { color: #BA2121 } /* Literal.String.Backtick */\\n.codehilite .sc { color: #BA2121 } /* Literal.String.Char */\\n.codehilite .dl { color: #BA2121 } /* Literal.String.Delimiter */\\n.codehilite .sd { color: #BA2121; font-style: italic } /* Literal.String.Doc */\\n.codehilite .s2 { color: #BA2121 } /* Literal.String.Double */\\n.codehilite .se { color: #BB6622; font-weight: bold } /* Literal.String.Escape */\\n.codehilite .sh { color: #BA2121 } /* Literal.String.Heredoc */\\n.codehilite .si { color: #BB6688; font-weight: bold } /* Literal.String.Interpol */\\n.codehilite .sx { color: #008000 } /* Literal.String.Other */\\n.codehilite .sr { color: #BB6688 } /* Literal.String.Regex */\\n.codehilite .s1 { color: #BA2121 } /* Literal.String.Single */\\n.codehilite .ss { color: #19177C } /* Literal.String.Symbol */\\n.codehilite .bp { color: #008000 } /* Name.Builtin.Pseudo */\\n.codehilite .fm { color: #0000FF } /* Name.Function.Magic */\\n.codehilite .vc { color: #19177C } /* Name.Variable.Class */\\n.codehilite .vg { color: #19177C } /* Name.Variable.Global */\\n.codehilite .vi { color: #19177C } /* Name.Variable.Instance */\\n.codehilite .vm { color: #19177C } /* Name.Variable.Magic */\\n.codehilite .il { color: #666666 } /* Literal.Number.Integer.Long */\\n\\n.markdown h1 { margin-block-start: 0.34em }\\n.markdown h2 { margin-block-start: 0.42em }\\n.markdown h3 { margin-block-start: 0.5em }\\n.markdown h4 { margin-block-start: 0.67em }\\n.markdown h5 { margin-block-start: 0.84em }\\n.markdown h6 { margin-block-start: 1.17em }\\n.markdown ul { padding-inline-start: 2em }\\n.markdown ol { padding-inline-start: 2em }\\n.markdown strong { font-weight: 600 }\\n.markdown a { color: -webkit-link }\\n.markdown a { color: -moz-hyperlinkText }\\n\");\n    },\n    function(Bokeh) {\n      inject_raw_css(\".json-formatter-row {\\n  font-family: monospace;\\n}\\n.json-formatter-row,\\n.json-formatter-row a,\\n.json-formatter-row a:hover {\\n  color: black;\\n  text-decoration: none;\\n}\\n.json-formatter-row .json-formatter-row {\\n  margin-left: 1rem;\\n}\\n.json-formatter-row .json-formatter-children.json-formatter-empty {\\n  opacity: 0.5;\\n  margin-left: 1rem;\\n}\\n.json-formatter-row .json-formatter-children.json-formatter-empty:after {\\n  display: none;\\n}\\n.json-formatter-row .json-formatter-children.json-formatter-empty.json-formatter-object:after {\\n  content: \\\"No properties\\\";\\n}\\n.json-formatter-row .json-formatter-children.json-formatter-empty.json-formatter-array:after {\\n  content: \\\"[]\\\";\\n}\\n.json-formatter-row .json-formatter-string,\\n.json-formatter-row .json-formatter-stringifiable {\\n  color: green;\\n  white-space: pre;\\n  word-wrap: break-word;\\n}\\n.json-formatter-row .json-formatter-number {\\n  color: blue;\\n}\\n.json-formatter-row .json-formatter-boolean {\\n  color: red;\\n}\\n.json-formatter-row .json-formatter-null {\\n  color: #855A00;\\n}\\n.json-formatter-row .json-formatter-undefined {\\n  color: #ca0b69;\\n}\\n.json-formatter-row .json-formatter-function {\\n  color: #FF20ED;\\n}\\n.json-formatter-row .json-formatter-date {\\n  background-color: rgba(0, 0, 0, 0.05);\\n}\\n.json-formatter-row .json-formatter-url {\\n  text-decoration: underline;\\n  color: blue;\\n  cursor: pointer;\\n}\\n.json-formatter-row .json-formatter-bracket {\\n  color: blue;\\n}\\n.json-formatter-row .json-formatter-key {\\n  color: #00008B;\\n  padding-right: 0.2rem;\\n}\\n.json-formatter-row .json-formatter-toggler-link {\\n  cursor: pointer;\\n}\\n.json-formatter-row .json-formatter-toggler {\\n  line-height: 1.2rem;\\n  font-size: 0.7rem;\\n  vertical-align: middle;\\n  opacity: 0.6;\\n  cursor: pointer;\\n  padding-right: 0.2rem;\\n}\\n.json-formatter-row .json-formatter-toggler:after {\\n  display: inline-block;\\n  transition: transform 100ms ease-in;\\n  content: \\\"\\\\25BA\\\";\\n}\\n.json-formatter-row > a > .json-formatter-preview-text {\\n  opacity: 0;\\n  transition: opacity 0.15s ease-in;\\n  font-style: italic;\\n}\\n.json-formatter-row:hover > a > .json-formatter-preview-text {\\n  opacity: 0.6;\\n}\\n.json-formatter-row.json-formatter-open > .json-formatter-toggler-link .json-formatter-toggler:after {\\n  transform: rotate(90deg);\\n}\\n.json-formatter-row.json-formatter-open > .json-formatter-children:after {\\n  display: inline-block;\\n}\\n.json-formatter-row.json-formatter-open > a > .json-formatter-preview-text {\\n  display: none;\\n}\\n.json-formatter-row.json-formatter-open.json-formatter-empty:after {\\n  display: block;\\n}\\n.json-formatter-dark.json-formatter-row {\\n  font-family: monospace;\\n}\\n.json-formatter-dark.json-formatter-row,\\n.json-formatter-dark.json-formatter-row a,\\n.json-formatter-dark.json-formatter-row a:hover {\\n  color: white;\\n  text-decoration: none;\\n}\\n.json-formatter-dark.json-formatter-row .json-formatter-row {\\n  margin-left: 1rem;\\n}\\n.json-formatter-dark.json-formatter-row .json-formatter-children.json-formatter-empty {\\n  opacity: 0.5;\\n  margin-left: 1rem;\\n}\\n.json-formatter-dark.json-formatter-row .json-formatter-children.json-formatter-empty:after {\\n  display: none;\\n}\\n.json-formatter-dark.json-formatter-row .json-formatter-children.json-formatter-empty.json-formatter-object:after {\\n  content: \\\"No properties\\\";\\n}\\n.json-formatter-dark.json-formatter-row .json-formatter-children.json-formatter-empty.json-formatter-array:after {\\n  content: \\\"[]\\\";\\n}\\n.json-formatter-dark.json-formatter-row .json-formatter-string,\\n.json-formatter-dark.json-formatter-row .json-formatter-stringifiable {\\n  color: #31F031;\\n  white-space: pre;\\n  word-wrap: break-word;\\n}\\n.json-formatter-dark.json-formatter-row .json-formatter-number {\\n  color: #66C2FF;\\n}\\n.json-formatter-dark.json-formatter-row .json-formatter-boolean {\\n  color: #EC4242;\\n}\\n.json-formatter-dark.json-formatter-row .json-formatter-null {\\n  color: #EEC97D;\\n}\\n.json-formatter-dark.json-formatter-row .json-formatter-undefined {\\n  color: #ef8fbe;\\n}\\n.json-formatter-dark.json-formatter-row .json-formatter-function {\\n  color: #FD48CB;\\n}\\n.json-formatter-dark.json-formatter-row .json-formatter-date {\\n  background-color: rgba(255, 255, 255, 0.05);\\n}\\n.json-formatter-dark.json-formatter-row .json-formatter-url {\\n  text-decoration: underline;\\n  color: #027BFF;\\n  cursor: pointer;\\n}\\n.json-formatter-dark.json-formatter-row .json-formatter-bracket {\\n  color: #9494FF;\\n}\\n.json-formatter-dark.json-formatter-row .json-formatter-key {\\n  color: #23A0DB;\\n  padding-right: 0.2rem;\\n}\\n.json-formatter-dark.json-formatter-row .json-formatter-toggler-link {\\n  cursor: pointer;\\n}\\n.json-formatter-dark.json-formatter-row .json-formatter-toggler {\\n  line-height: 1.2rem;\\n  font-size: 0.7rem;\\n  vertical-align: middle;\\n  opacity: 0.6;\\n  cursor: pointer;\\n  padding-right: 0.2rem;\\n}\\n.json-formatter-dark.json-formatter-row .json-formatter-toggler:after {\\n  display: inline-block;\\n  transition: transform 100ms ease-in;\\n  content: \\\"\\\\25BA\\\";\\n}\\n.json-formatter-dark.json-formatter-row > a > .json-formatter-preview-text {\\n  opacity: 0;\\n  transition: opacity 0.15s ease-in;\\n  font-style: italic;\\n}\\n.json-formatter-dark.json-formatter-row:hover > a > .json-formatter-preview-text {\\n  opacity: 0.6;\\n}\\n.json-formatter-dark.json-formatter-row.json-formatter-open > .json-formatter-toggler-link .json-formatter-toggler:after {\\n  transform: rotate(90deg);\\n}\\n.json-formatter-dark.json-formatter-row.json-formatter-open > .json-formatter-children:after {\\n  display: inline-block;\\n}\\n.json-formatter-dark.json-formatter-row.json-formatter-open > a > .json-formatter-preview-text {\\n  display: none;\\n}\\n.json-formatter-dark.json-formatter-row.json-formatter-open.json-formatter-empty:after {\\n  display: block;\\n}\\n\");\n    },\n    function(Bokeh) {\n      inject_raw_css(\"table.panel-df {\\n    margin-left: auto;\\n    margin-right: auto;\\n    border: none;\\n    border-collapse: collapse;\\n    border-spacing: 0;\\n    color: black;\\n    font-size: 12px;\\n    table-layout: fixed;\\n    width: 100%;\\n}\\n\\n.panel-df tr, .panel-df th, .panel-df td {\\n    text-align: right;\\n    vertical-align: middle;\\n    padding: 0.5em 0.5em !important;\\n    line-height: normal;\\n    white-space: normal;\\n    max-width: none;\\n    border: none;\\n}\\n\\n.panel-df tbody {\\n    display: table-row-group;\\n    vertical-align: middle;\\n    border-color: inherit;\\n}\\n\\n.panel-df tbody tr:nth-child(odd) {\\n    background: #f5f5f5;\\n}\\n\\n.panel-df thead {\\n    border-bottom: 1px solid black;\\n    vertical-align: bottom;\\n}\\n\\n.panel-df tr:hover {\\n    background: lightblue !important;\\n    cursor: pointer;\\n}\\n\");\n    },\n    function(Bokeh) {\n      Bokeh.set_log_level(\"info\");\n    },\n    function(Bokeh) {\n    \n    \n    }\n  ];\n\n  function run_inline_js() {\n    \n    if (root.Bokeh !== undefined || force === true) {\n      \n    for (var i = 0; i < inline_js.length; i++) {\n      inline_js[i].call(root, root.Bokeh);\n    }\n    if (force === true) {\n        display_loaded();\n      }} else if (Date.now() < root._bokeh_timeout) {\n      setTimeout(run_inline_js, 100);\n    } else if (!root._bokeh_failed_load) {\n      console.log(\"Bokeh: BokehJS failed to load within specified timeout.\");\n      root._bokeh_failed_load = true;\n    } else if (force !== true) {\n      var cell = $(document.getElementById(\"34429\")).parents('.cell').data().cell;\n      cell.output_area.append_execute_result(NB_LOAD_WARNING)\n    }\n\n  }\n\n  if (root._bokeh_is_loading === 0) {\n    console.debug(\"Bokeh: BokehJS loaded, going straight to plotting\");\n    run_inline_js();\n  } else {\n    load_libs(css_urls, js_urls, function() {\n      console.debug(\"Bokeh: BokehJS plotting callback run at\", now());\n      run_inline_js();\n    });\n  }\n}(window));"
     },
     "metadata": {},
     "output_type": "display_data"
    }
   ],
   "source": [
    "from bokeh.plotting import output_notebook\n",
    "output_notebook()\n",
    "\n",
    "import networkx as nx\n",
    "import holoviews as hv\n",
    "import hvplot.pandas"
   ]
  },
  {
   "cell_type": "code",
   "execution_count": 3,
   "metadata": {},
   "outputs": [],
   "source": [
    "from neuclease.clio.api import *"
   ]
  },
  {
   "cell_type": "code",
   "execution_count": 4,
   "metadata": {},
   "outputs": [],
   "source": [
    "from neuclease import configure_default_logging\n",
    "configure_default_logging()"
   ]
  },
  {
   "cell_type": "code",
   "execution_count": 5,
   "metadata": {},
   "outputs": [
    {
     "data": {
      "text/plain": [
       "('emdata5.janelia.org:8400', '557b3d9119b445c49025acb383eb5090')"
      ]
     },
     "execution_count": 5,
     "metadata": {},
     "output_type": "execute_result"
    }
   ],
   "source": [
    "vnc_master"
   ]
  },
  {
   "cell_type": "code",
   "execution_count": 6,
   "metadata": {},
   "outputs": [
    {
     "name": "stdout",
     "output_type": "stream",
     "text": [
      "CPU times: user 236 ms, sys: 44.6 ms, total: 281 ms\n",
      "Wall time: 43.2 s\n"
     ]
    }
   ],
   "source": [
    "%time clio_ann_orig = fetch_json_annotations_all('VNC', 'neurons', 'pandas')"
   ]
  },
  {
   "cell_type": "code",
   "execution_count": 7,
   "metadata": {},
   "outputs": [
    {
     "name": "stdout",
     "output_type": "stream",
     "text": [
      "CPU times: user 189 ms, sys: 15.6 ms, total: 204 ms\n",
      "Wall time: 4.91 s\n"
     ]
    }
   ],
   "source": [
    "%time dvid_ann_orig = fetch_body_annotations(*vnc_master)"
   ]
  },
  {
   "cell_type": "code",
   "execution_count": 12,
   "metadata": {},
   "outputs": [],
   "source": [
    "dvid_ann = dvid_ann_orig.copy()\n",
    "dvid_ann = fix_df_names(dvid_ann)\n",
    "dvid_ann = dvid_ann.query('not instance.isnull() and instance != \"\"').copy()\n",
    "\n",
    "# Shinya named a few like this: (18135_L)\n",
    "dvid_ann['instance'] = dvid_ann['instance'].map(lambda s: s.replace('(', '').replace(')', ''))\n",
    "dvid_ann['group'] = dvid_ann['instance'].map(lambda s: int(s.split('_')[0]))\n",
    "dvid_ann['soma_side'] = dvid_ann['instance'].map(lambda s: s.split('_')[1] if len(s.split('_')) > 1 else '')\n",
    "dvid_ann['soma_side'] = dvid_ann['soma_side'].map(lambda s: {'L': 'LHS', 'R': 'RHS'}.get(s, s))\n",
    "dvid_ann = dvid_ann[['group', 'soma_side', 'naming_user']].rename(columns={'naming_user': 'user'})"
   ]
  },
  {
   "cell_type": "code",
   "execution_count": 83,
   "metadata": {},
   "outputs": [],
   "source": [
    "clio_ann = clio_ann_orig.copy()\n",
    "clio_ann = clio_ann.set_index('bodyid').rename_axis('body')\n",
    "clio_ann = clio_ann.query('(not group.isnull() and group != \"\") or (not soma_side.isnull() and soma_side != \"\")')"
   ]
  },
  {
   "cell_type": "code",
   "execution_count": null,
   "metadata": {},
   "outputs": [],
   "source": []
  },
  {
   "cell_type": "code",
   "execution_count": 63,
   "metadata": {},
   "outputs": [],
   "source": [
    "ann = dvid_ann.merge(clio_ann[['group', 'soma_side', 'user']], 'outer', left_index=True, right_index=True, suffixes=['_dvid', '_clio'])\n",
    "\n",
    "# Unify terminology\n",
    "ann['soma_side_dvid'] = ann['soma_side_dvid'].map(lambda s: {'UNP': 'M'}.get(s, s))\n",
    "ann['soma_side_clio'] = ann['soma_side_clio'].map(lambda s: {'RHs': 'RHS', 'None': \"\", \"TBD\": \"\"}.get(s, s))\n",
    "\n",
    "# Convert groups to strings for graph analysis\n",
    "ann = ann.query('group_clio != \"\"').copy()\n",
    "\n",
    "ann['group_dvid_name'] = \"\"\n",
    "ann['group_clio_name'] = \"\"\n",
    "\n",
    "ann.loc[~(ann['group_dvid'].isnull()), 'group_dvid_name'] = 'dvid_' + ann.loc[~(ann['group_dvid'].isnull()), 'group_dvid'].astype(int).astype(str)\n",
    "ann.loc[~(ann['group_clio'].isnull()), 'group_clio_name'] = 'clio_' + ann.loc[~(ann['group_clio'].isnull()), 'group_clio'].astype(int).astype(str)"
   ]
  },
  {
   "cell_type": "code",
   "execution_count": 15,
   "metadata": {},
   "outputs": [
    {
     "data": {
      "text/html": [
       "<div>\n",
       "<style scoped>\n",
       "    .dataframe tbody tr th:only-of-type {\n",
       "        vertical-align: middle;\n",
       "    }\n",
       "\n",
       "    .dataframe tbody tr th {\n",
       "        vertical-align: top;\n",
       "    }\n",
       "\n",
       "    .dataframe thead th {\n",
       "        text-align: right;\n",
       "    }\n",
       "</style>\n",
       "<table border=\"1\" class=\"dataframe\">\n",
       "  <thead>\n",
       "    <tr style=\"text-align: right;\">\n",
       "      <th></th>\n",
       "      <th>group_dvid</th>\n",
       "      <th>soma_side_dvid</th>\n",
       "      <th>user_dvid</th>\n",
       "      <th>group_clio</th>\n",
       "      <th>soma_side_clio</th>\n",
       "      <th>user_clio</th>\n",
       "    </tr>\n",
       "    <tr>\n",
       "      <th>body</th>\n",
       "      <th></th>\n",
       "      <th></th>\n",
       "      <th></th>\n",
       "      <th></th>\n",
       "      <th></th>\n",
       "      <th></th>\n",
       "    </tr>\n",
       "  </thead>\n",
       "  <tbody>\n",
       "    <tr>\n",
       "      <th>10000</th>\n",
       "      <td>10000.0</td>\n",
       "      <td>RHS</td>\n",
       "      <td>takemuras</td>\n",
       "      <td>10000</td>\n",
       "      <td>NaN</td>\n",
       "      <td>jefferis@gmail.com</td>\n",
       "    </tr>\n",
       "    <tr>\n",
       "      <th>10002</th>\n",
       "      <td>10000.0</td>\n",
       "      <td>LHS</td>\n",
       "      <td>takemuras</td>\n",
       "      <td>10000</td>\n",
       "      <td>None</td>\n",
       "      <td>lisa.marin@gmail.com</td>\n",
       "    </tr>\n",
       "    <tr>\n",
       "      <th>10004</th>\n",
       "      <td>NaN</td>\n",
       "      <td>NaN</td>\n",
       "      <td>NaN</td>\n",
       "      <td>NaN</td>\n",
       "      <td>LHS</td>\n",
       "      <td>lisa.marin@gmail.com</td>\n",
       "    </tr>\n",
       "    <tr>\n",
       "      <th>10010</th>\n",
       "      <td>10010.0</td>\n",
       "      <td>LHS</td>\n",
       "      <td>takemuras</td>\n",
       "      <td>NaN</td>\n",
       "      <td>LHS</td>\n",
       "      <td>lisa.marin@gmail.com</td>\n",
       "    </tr>\n",
       "    <tr>\n",
       "      <th>10011</th>\n",
       "      <td>NaN</td>\n",
       "      <td>NaN</td>\n",
       "      <td>NaN</td>\n",
       "      <td>NaN</td>\n",
       "      <td>RHS</td>\n",
       "      <td>mbona2p3p@gmail.com</td>\n",
       "    </tr>\n",
       "    <tr>\n",
       "      <th>...</th>\n",
       "      <td>...</td>\n",
       "      <td>...</td>\n",
       "      <td>...</td>\n",
       "      <td>...</td>\n",
       "      <td>...</td>\n",
       "      <td>...</td>\n",
       "    </tr>\n",
       "    <tr>\n",
       "      <th>502745128677</th>\n",
       "      <td>NaN</td>\n",
       "      <td>NaN</td>\n",
       "      <td>NaN</td>\n",
       "      <td>NaN</td>\n",
       "      <td>RHS</td>\n",
       "      <td>lisa.marin@gmail.com</td>\n",
       "    </tr>\n",
       "    <tr>\n",
       "      <th>512015221257</th>\n",
       "      <td>NaN</td>\n",
       "      <td>NaN</td>\n",
       "      <td>NaN</td>\n",
       "      <td>NaN</td>\n",
       "      <td>RHS</td>\n",
       "      <td>lisa.marin@gmail.com</td>\n",
       "    </tr>\n",
       "    <tr>\n",
       "      <th>608986072590</th>\n",
       "      <td>NaN</td>\n",
       "      <td>NaN</td>\n",
       "      <td>NaN</td>\n",
       "      <td>NaN</td>\n",
       "      <td>LHS</td>\n",
       "      <td>lisa.marin@gmail.com</td>\n",
       "    </tr>\n",
       "    <tr>\n",
       "      <th>618805335261</th>\n",
       "      <td>NaN</td>\n",
       "      <td>NaN</td>\n",
       "      <td>NaN</td>\n",
       "      <td>NaN</td>\n",
       "      <td>RHS</td>\n",
       "      <td>lisa.marin@gmail.com</td>\n",
       "    </tr>\n",
       "    <tr>\n",
       "      <th>841369750905</th>\n",
       "      <td>NaN</td>\n",
       "      <td>NaN</td>\n",
       "      <td>NaN</td>\n",
       "      <td>NaN</td>\n",
       "      <td>RHS</td>\n",
       "      <td>lisa.marin@gmail.com</td>\n",
       "    </tr>\n",
       "  </tbody>\n",
       "</table>\n",
       "<p>17298 rows × 6 columns</p>\n",
       "</div>"
      ],
      "text/plain": [
       "              group_dvid soma_side_dvid  user_dvid group_clio soma_side_clio  \\\n",
       "body                                                                           \n",
       "10000            10000.0            RHS  takemuras      10000            NaN   \n",
       "10002            10000.0            LHS  takemuras      10000           None   \n",
       "10004                NaN            NaN        NaN        NaN            LHS   \n",
       "10010            10010.0            LHS  takemuras        NaN            LHS   \n",
       "10011                NaN            NaN        NaN        NaN            RHS   \n",
       "...                  ...            ...        ...        ...            ...   \n",
       "502745128677         NaN            NaN        NaN        NaN            RHS   \n",
       "512015221257         NaN            NaN        NaN        NaN            RHS   \n",
       "608986072590         NaN            NaN        NaN        NaN            LHS   \n",
       "618805335261         NaN            NaN        NaN        NaN            RHS   \n",
       "841369750905         NaN            NaN        NaN        NaN            RHS   \n",
       "\n",
       "                         user_clio  \n",
       "body                                \n",
       "10000           jefferis@gmail.com  \n",
       "10002         lisa.marin@gmail.com  \n",
       "10004         lisa.marin@gmail.com  \n",
       "10010         lisa.marin@gmail.com  \n",
       "10011          mbona2p3p@gmail.com  \n",
       "...                            ...  \n",
       "502745128677  lisa.marin@gmail.com  \n",
       "512015221257  lisa.marin@gmail.com  \n",
       "608986072590  lisa.marin@gmail.com  \n",
       "618805335261  lisa.marin@gmail.com  \n",
       "841369750905  lisa.marin@gmail.com  \n",
       "\n",
       "[17298 rows x 6 columns]"
      ]
     },
     "execution_count": 15,
     "metadata": {},
     "output_type": "execute_result"
    }
   ],
   "source": [
    "ann"
   ]
  },
  {
   "cell_type": "markdown",
   "metadata": {},
   "source": [
    "### Soma side disagreements"
   ]
  },
  {
   "cell_type": "code",
   "execution_count": 422,
   "metadata": {},
   "outputs": [
    {
     "data": {
      "text/plain": [
       "150"
      ]
     },
     "execution_count": 422,
     "metadata": {},
     "output_type": "execute_result"
    }
   ],
   "source": [
    "q = ('not soma_side_dvid.isnull() and not soma_side_clio.isnull()'\n",
    "     ' and soma_side_dvid != \"\" and soma_side_clio != \"\"'\n",
    "     ' and soma_side_dvid != soma_side_clio')\n",
    "soma_disagreements = ann.query(q)\n",
    "len(soma_disagreements)"
   ]
  },
  {
   "cell_type": "code",
   "execution_count": 94,
   "metadata": {},
   "outputs": [
    {
     "name": "stdout",
     "output_type": "stream",
     "text": [
      "[10016, 10098, 10127, 10136, 10209, 10322, 10374, 10383, 10452, 10528, 10529, 10567, 10659, 10674, 10862, 10959, 11096, 11178, 11225, 11227, 11292, 11293, 11342, 11451, 11665, 11942, 11962, 11967, 12016, 12754, 13035, 13058, 13371, 13375, 13509, 13670, 13807, 13840, 14481, 14706, 14791, 14945, 16242, 16679, 16761, 16958, 18299, 19984, 20681, 20760, 21315, 21574, 21818, 22334, 22536, 23092, 23104, 24698, 24737, 24878, 24911, 25756, 27420, 27436, 27869, 28050, 29114, 30031, 30965, 100167, 100199, 102590, 152542, 158757, 160145, 163891]\n"
     ]
    }
   ],
   "source": [
    "print(soma_disagreements.query('soma_side_dvid == \"RHS\"').index.tolist())"
   ]
  },
  {
   "cell_type": "markdown",
   "metadata": {},
   "source": [
    "### Construct group graph"
   ]
  },
  {
   "cell_type": "code",
   "execution_count": 98,
   "metadata": {},
   "outputs": [],
   "source": [
    "g = nx.Graph()\n",
    "g.add_edges_from(ann.query('group_dvid_name != \"\"').reset_index()[['body', 'group_dvid_name']].values)\n",
    "g.add_edges_from(ann.query('group_clio_name != \"\"').reset_index()[['body', 'group_clio_name']].values)"
   ]
  },
  {
   "cell_type": "markdown",
   "metadata": {},
   "source": [
    "### Extract connected components"
   ]
  },
  {
   "cell_type": "code",
   "execution_count": null,
   "metadata": {},
   "outputs": [],
   "source": [
    "union_groups = []\n",
    "for cc in nx.connected_components(g):\n",
    "    bodies = []\n",
    "    dvid_groups = []\n",
    "    clio_groups = []\n",
    "    for node in cc:\n",
    "        if isinstance(node, int):\n",
    "            bodies.append(node)\n",
    "        elif node.startswith('dvid_'):\n",
    "            dvid_groups.append(int(float(node[len('dvid_'):])))\n",
    "        elif node.startswith('clio_'):\n",
    "            clio_groups.append(int(float(node[len('clio_'):])))\n",
    "        else:\n",
    "            assert False\n",
    "    union_groups.append((len(bodies), len(dvid_groups), len(clio_groups), bodies, dvid_groups, clio_groups, cc))"
   ]
  },
  {
   "cell_type": "code",
   "execution_count": 238,
   "metadata": {},
   "outputs": [],
   "source": [
    "df = pd.DataFrame(union_groups, columns=['num_bodies', 'num_dvid_groups', 'num_clio_groups', 'bodies', 'dvid_groups', 'clio_groups', 'cc'])\n",
    "df = df.sort_values(['num_dvid_groups', 'num_clio_groups'], ascending=False).reset_index(drop=True)\n",
    "#df.head(20)"
   ]
  },
  {
   "cell_type": "code",
   "execution_count": 237,
   "metadata": {},
   "outputs": [
    {
     "data": {},
     "metadata": {},
     "output_type": "display_data"
    },
    {
     "data": {
      "application/vnd.holoviews_exec.v0+json": "",
      "text/html": [
       "<div id='10698'>\n",
       "\n",
       "\n",
       "\n",
       "\n",
       "\n",
       "  <div class=\"bk-root\" id=\"ea75d75a-208d-4fa0-9fbf-fb098b73719b\" data-root-id=\"10698\"></div>\n",
       "</div>\n",
       "<script type=\"application/javascript\">(function(root) {\n",
       "  function embed_document(root) {\n",
       "  var docs_json = {\"48106f07-c5d3-4cbc-a1d7-98f26aba05a9\":{\"roots\":{\"references\":[{\"attributes\":{\"axis\":{\"id\":\"10712\"},\"grid_line_color\":null,\"ticker\":null},\"id\":\"10715\",\"type\":\"Grid\"},{\"attributes\":{\"below\":[{\"id\":\"10712\"}],\"center\":[{\"id\":\"10715\"},{\"id\":\"10718\"},{\"id\":\"10749\"}],\"left\":[{\"id\":\"10716\"}],\"margin\":null,\"min_border_bottom\":10,\"min_border_left\":10,\"min_border_right\":10,\"min_border_top\":10,\"plot_height\":700,\"plot_width\":700,\"renderers\":[{\"id\":\"10739\"}],\"sizing_mode\":\"fixed\",\"title\":{\"id\":\"10704\"},\"toolbar\":{\"id\":\"10725\"},\"x_range\":{\"id\":\"10700\"},\"x_scale\":{\"id\":\"10708\"},\"y_range\":{\"id\":\"10701\"},\"y_scale\":{\"id\":\"10710\"}},\"id\":\"10703\",\"subtype\":\"Figure\",\"type\":\"Plot\"},{\"attributes\":{\"overlay\":{\"id\":\"10724\"}},\"id\":\"10722\",\"type\":\"BoxZoomTool\"},{\"attributes\":{},\"id\":\"10743\",\"type\":\"BasicTickFormatter\"},{\"attributes\":{},\"id\":\"10717\",\"type\":\"CategoricalTicker\"},{\"attributes\":{\"axis_label\":\"union id\",\"bounds\":\"auto\",\"formatter\":{\"id\":\"10745\"},\"major_label_orientation\":\"horizontal\",\"ticker\":{\"id\":\"10717\"}},\"id\":\"10716\",\"type\":\"CategoricalAxis\"},{\"attributes\":{},\"id\":\"10745\",\"type\":\"CategoricalTickFormatter\"},{\"attributes\":{},\"id\":\"10713\",\"type\":\"BasicTicker\"},{\"attributes\":{\"text\":\"unioned group counts\",\"text_color\":{\"value\":\"black\"},\"text_font_size\":{\"value\":\"12pt\"}},\"id\":\"10704\",\"type\":\"Title\"},{\"attributes\":{\"active_drag\":\"auto\",\"active_inspect\":\"auto\",\"active_multi\":null,\"active_scroll\":\"auto\",\"active_tap\":\"auto\",\"tools\":[{\"id\":\"10702\"},{\"id\":\"10719\"},{\"id\":\"10720\"},{\"id\":\"10721\"},{\"id\":\"10722\"},{\"id\":\"10723\"}]},\"id\":\"10725\",\"type\":\"Toolbar\"},{\"attributes\":{},\"id\":\"10719\",\"type\":\"SaveTool\"},{\"attributes\":{},\"id\":\"10723\",\"type\":\"ResetTool\"},{\"attributes\":{\"factors\":[\"66\",\"65\",\"64\",\"63\",\"62\",\"61\",\"60\",\"59\",\"58\",\"57\",\"56\",\"55\",\"54\",\"53\",\"52\",\"51\",\"50\",\"49\",\"48\",\"47\",\"46\",\"45\",\"44\",\"43\",\"42\",\"41\",\"40\",\"39\",\"38\",\"37\",\"36\",\"35\",\"34\",\"33\",\"32\",\"31\",\"30\",\"29\",\"28\",\"27\",\"26\",\"25\",\"24\",\"23\",\"22\",\"21\",\"20\",\"19\",\"18\",\"17\",\"16\",\"15\",\"14\",\"13\",\"12\",\"11\",\"10\",\"9\",\"8\",\"7\",\"6\",\"5\",\"4\",\"3\",\"2\",\"1\",\"0\"],\"tags\":[[[\"index\",\"index\",null]]]},\"id\":\"10701\",\"type\":\"FactorRange\"},{\"attributes\":{},\"id\":\"10720\",\"type\":\"PanTool\"},{\"attributes\":{\"margin\":[5,5,5,5],\"name\":\"HSpacer31964\",\"sizing_mode\":\"stretch_width\"},\"id\":\"10699\",\"type\":\"Spacer\"},{\"attributes\":{\"source\":{\"id\":\"10733\"}},\"id\":\"10740\",\"type\":\"CDSView\"},{\"attributes\":{},\"id\":\"10747\",\"type\":\"UnionRenderers\"},{\"attributes\":{\"bottom_units\":\"screen\",\"fill_alpha\":0.5,\"fill_color\":\"lightgrey\",\"left_units\":\"screen\",\"level\":\"overlay\",\"line_alpha\":1.0,\"line_color\":\"black\",\"line_dash\":[4,4],\"line_width\":2,\"right_units\":\"screen\",\"top_units\":\"screen\"},\"id\":\"10724\",\"type\":\"BoxAnnotation\"},{\"attributes\":{\"factors\":[\"num_dvid_groups\",\"num_clio_groups\"],\"palette\":[\"#1f77b3\",\"#ff7e0e\"]},\"id\":\"10732\",\"type\":\"CategoricalColorMapper\"},{\"attributes\":{\"end\":12.8,\"reset_end\":12.8,\"reset_start\":-8.8,\"start\":-8.8,\"tags\":[[[\"value\",\"value\",null]]]},\"id\":\"10700\",\"type\":\"Range1d\"},{\"attributes\":{\"axis_label\":\"number\",\"bounds\":\"auto\",\"formatter\":{\"id\":\"10743\"},\"major_label_orientation\":\"horizontal\",\"ticker\":{\"id\":\"10713\"}},\"id\":\"10712\",\"type\":\"LinearAxis\"},{\"attributes\":{\"margin\":[5,5,5,5],\"name\":\"HSpacer31965\",\"sizing_mode\":\"stretch_width\"},\"id\":\"10771\",\"type\":\"Spacer\"},{\"attributes\":{\"children\":[{\"id\":\"10699\"},{\"id\":\"10703\"},{\"id\":\"10771\"}],\"margin\":[0,0,0,0],\"name\":\"Row31960\",\"tags\":[\"embedded\"]},\"id\":\"10698\",\"type\":\"Row\"},{\"attributes\":{},\"id\":\"10708\",\"type\":\"LinearScale\"},{\"attributes\":{\"axis\":{\"id\":\"10716\"},\"dimension\":1,\"grid_line_color\":null,\"ticker\":null},\"id\":\"10718\",\"type\":\"Grid\"},{\"attributes\":{},\"id\":\"10734\",\"type\":\"Selection\"},{\"attributes\":{\"label\":{\"field\":\"Variable\"},\"renderers\":[{\"id\":\"10739\"}]},\"id\":\"10750\",\"type\":\"LegendItem\"},{\"attributes\":{},\"id\":\"10721\",\"type\":\"WheelZoomTool\"},{\"attributes\":{},\"id\":\"10710\",\"type\":\"CategoricalScale\"},{\"attributes\":{\"callback\":null,\"renderers\":[{\"id\":\"10739\"}],\"tags\":[\"hv_created\"],\"tooltips\":[[\"index\",\"@{index}\"],[\"Variable\",\"@{Variable}\"],[\"value\",\"@{value}\"]]},\"id\":\"10702\",\"type\":\"HoverTool\"},{\"attributes\":{\"items\":[{\"id\":\"10750\"}],\"location\":\"bottom_right\"},\"id\":\"10749\",\"type\":\"Legend\"},{\"attributes\":{\"fill_color\":{\"field\":\"Variable\",\"transform\":{\"id\":\"10732\"}},\"height\":{\"value\":0.8},\"left\":{\"field\":\"bottom\"},\"right\":{\"field\":\"top\"},\"y\":{\"field\":\"index\"}},\"id\":\"10736\",\"type\":\"HBar\"},{\"attributes\":{\"fill_alpha\":{\"value\":0.1},\"fill_color\":{\"field\":\"Variable\",\"transform\":{\"id\":\"10732\"}},\"height\":{\"value\":0.8},\"left\":{\"field\":\"bottom\"},\"line_alpha\":{\"value\":0.1},\"right\":{\"field\":\"top\"},\"y\":{\"field\":\"index\"}},\"id\":\"10737\",\"type\":\"HBar\"},{\"attributes\":{\"data_source\":{\"id\":\"10733\"},\"glyph\":{\"id\":\"10736\"},\"hover_glyph\":null,\"muted_glyph\":{\"id\":\"10738\"},\"nonselection_glyph\":{\"id\":\"10737\"},\"selection_glyph\":null,\"view\":{\"id\":\"10740\"}},\"id\":\"10739\",\"type\":\"GlyphRenderer\"},{\"attributes\":{\"fill_alpha\":{\"value\":0.2},\"fill_color\":{\"field\":\"Variable\",\"transform\":{\"id\":\"10732\"}},\"height\":{\"value\":0.8},\"left\":{\"field\":\"bottom\"},\"line_alpha\":{\"value\":0.2},\"right\":{\"field\":\"top\"},\"y\":{\"field\":\"index\"}},\"id\":\"10738\",\"type\":\"HBar\"},{\"attributes\":{\"data\":{\"Variable\":[\"num_dvid_groups\",\"num_dvid_groups\",\"num_dvid_groups\",\"num_dvid_groups\",\"num_dvid_groups\",\"num_dvid_groups\",\"num_dvid_groups\",\"num_dvid_groups\",\"num_dvid_groups\",\"num_dvid_groups\",\"num_dvid_groups\",\"num_dvid_groups\",\"num_dvid_groups\",\"num_dvid_groups\",\"num_dvid_groups\",\"num_dvid_groups\",\"num_dvid_groups\",\"num_dvid_groups\",\"num_dvid_groups\",\"num_dvid_groups\",\"num_dvid_groups\",\"num_dvid_groups\",\"num_dvid_groups\",\"num_dvid_groups\",\"num_dvid_groups\",\"num_dvid_groups\",\"num_dvid_groups\",\"num_dvid_groups\",\"num_dvid_groups\",\"num_dvid_groups\",\"num_dvid_groups\",\"num_dvid_groups\",\"num_dvid_groups\",\"num_dvid_groups\",\"num_dvid_groups\",\"num_dvid_groups\",\"num_dvid_groups\",\"num_dvid_groups\",\"num_dvid_groups\",\"num_dvid_groups\",\"num_dvid_groups\",\"num_dvid_groups\",\"num_dvid_groups\",\"num_dvid_groups\",\"num_dvid_groups\",\"num_dvid_groups\",\"num_dvid_groups\",\"num_dvid_groups\",\"num_dvid_groups\",\"num_dvid_groups\",\"num_dvid_groups\",\"num_dvid_groups\",\"num_dvid_groups\",\"num_dvid_groups\",\"num_dvid_groups\",\"num_dvid_groups\",\"num_dvid_groups\",\"num_dvid_groups\",\"num_dvid_groups\",\"num_dvid_groups\",\"num_dvid_groups\",\"num_dvid_groups\",\"num_dvid_groups\",\"num_dvid_groups\",\"num_dvid_groups\",\"num_dvid_groups\",\"num_dvid_groups\",\"num_clio_groups\",\"num_clio_groups\",\"num_clio_groups\",\"num_clio_groups\",\"num_clio_groups\",\"num_clio_groups\",\"num_clio_groups\",\"num_clio_groups\",\"num_clio_groups\",\"num_clio_groups\",\"num_clio_groups\",\"num_clio_groups\",\"num_clio_groups\",\"num_clio_groups\",\"num_clio_groups\",\"num_clio_groups\",\"num_clio_groups\",\"num_clio_groups\",\"num_clio_groups\",\"num_clio_groups\",\"num_clio_groups\",\"num_clio_groups\",\"num_clio_groups\",\"num_clio_groups\",\"num_clio_groups\",\"num_clio_groups\",\"num_clio_groups\",\"num_clio_groups\",\"num_clio_groups\",\"num_clio_groups\",\"num_clio_groups\",\"num_clio_groups\",\"num_clio_groups\",\"num_clio_groups\",\"num_clio_groups\",\"num_clio_groups\",\"num_clio_groups\",\"num_clio_groups\",\"num_clio_groups\",\"num_clio_groups\",\"num_clio_groups\",\"num_clio_groups\",\"num_clio_groups\",\"num_clio_groups\",\"num_clio_groups\",\"num_clio_groups\",\"num_clio_groups\",\"num_clio_groups\",\"num_clio_groups\",\"num_clio_groups\",\"num_clio_groups\",\"num_clio_groups\",\"num_clio_groups\",\"num_clio_groups\",\"num_clio_groups\",\"num_clio_groups\",\"num_clio_groups\",\"num_clio_groups\",\"num_clio_groups\",\"num_clio_groups\",\"num_clio_groups\",\"num_clio_groups\",\"num_clio_groups\",\"num_clio_groups\",\"num_clio_groups\",\"num_clio_groups\",\"num_clio_groups\"],\"bottom\":[-1,-2,-2,-2,-2,-2,-2,-2,-2,-2,-2,-2,-2,-2,-2,-2,-2,-3,-3,-3,-3,-3,-4,-4,-4,-4,-4,-5,-5,-5,-6,-2,-6,-2,-2,-1,-1,-1,-1,-1,-1,-1,-1,-1,-1,-1,-1,-1,-1,-2,-1,-2,-2,-2,-2,-2,-2,-2,-2,-2,-2,-2,-2,-2,-2,-2,-7,0,0,0,0,0,0,0,0,0,0,0,0,0,0,0,0,0,0,0,0,0,0,0,0,0,0,0,0,0,0,0,0,0,0,0,0,0,0,0,0,0,0,0,0,0,0,0,0,0,0,0,0,0,0,0,0,0,0,0,0,0,0,0,0,0,0,0],\"index\":[\"66\",\"31\",\"30\",\"29\",\"28\",\"27\",\"26\",\"25\",\"24\",\"23\",\"22\",\"21\",\"20\",\"19\",\"18\",\"32\",\"17\",\"15\",\"14\",\"13\",\"12\",\"11\",\"10\",\"9\",\"8\",\"7\",\"6\",\"5\",\"4\",\"3\",\"2\",\"16\",\"1\",\"33\",\"35\",\"65\",\"64\",\"63\",\"62\",\"61\",\"60\",\"59\",\"58\",\"57\",\"56\",\"55\",\"54\",\"53\",\"52\",\"34\",\"51\",\"49\",\"48\",\"47\",\"46\",\"45\",\"44\",\"43\",\"42\",\"41\",\"40\",\"39\",\"38\",\"37\",\"36\",\"50\",\"0\",\"66\",\"31\",\"30\",\"29\",\"28\",\"27\",\"26\",\"25\",\"24\",\"23\",\"22\",\"21\",\"20\",\"19\",\"18\",\"32\",\"17\",\"15\",\"14\",\"13\",\"12\",\"11\",\"10\",\"9\",\"8\",\"7\",\"6\",\"5\",\"4\",\"3\",\"2\",\"16\",\"1\",\"33\",\"35\",\"65\",\"64\",\"63\",\"62\",\"61\",\"60\",\"59\",\"58\",\"57\",\"56\",\"55\",\"54\",\"53\",\"52\",\"34\",\"51\",\"49\",\"48\",\"47\",\"46\",\"45\",\"44\",\"43\",\"42\",\"41\",\"40\",\"39\",\"38\",\"37\",\"36\",\"50\",\"0\"],\"top\":[0,0,0,0,0,0,0,0,0,0,0,0,0,0,0,0,0,0,0,0,0,0,0,0,0,0,0,0,0,0,0,0,0,0,0,0,0,0,0,0,0,0,0,0,0,0,0,0,0,0,0,0,0,0,0,0,0,0,0,0,0,0,0,0,0,0,0,1,2,2,2,2,2,2,2,2,2,2,3,3,4,4,2,4,1,1,2,3,4,2,2,4,4,7,1,6,10,6,5,11,2,2,1,2,2,2,2,2,2,2,2,2,2,2,2,3,2,5,1,1,1,1,1,1,1,1,1,1,1,2,2,2,1,8],\"value\":[-1,-2,-2,-2,-2,-2,-2,-2,-2,-2,-2,-2,-2,-2,-2,-2,-2,-3,-3,-3,-3,-3,-4,-4,-4,-4,-4,-5,-5,-5,-6,-2,-6,-2,-2,-1,-1,-1,-1,-1,-1,-1,-1,-1,-1,-1,-1,-1,-1,-2,-1,-2,-2,-2,-2,-2,-2,-2,-2,-2,-2,-2,-2,-2,-2,-2,-7,1,2,2,2,2,2,2,2,2,2,2,3,3,4,4,2,4,1,1,2,3,4,2,2,4,4,7,1,6,10,6,5,11,2,2,1,2,2,2,2,2,2,2,2,2,2,2,2,3,2,5,1,1,1,1,1,1,1,1,1,1,1,2,2,2,1,8]},\"selected\":{\"id\":\"10734\"},\"selection_policy\":{\"id\":\"10747\"}},\"id\":\"10733\",\"type\":\"ColumnDataSource\"}],\"root_ids\":[\"10698\"]},\"title\":\"Bokeh Application\",\"version\":\"2.2.3\"}};\n",
       "  var render_items = [{\"docid\":\"48106f07-c5d3-4cbc-a1d7-98f26aba05a9\",\"root_ids\":[\"10698\"],\"roots\":{\"10698\":\"ea75d75a-208d-4fa0-9fbf-fb098b73719b\"}}];\n",
       "  root.Bokeh.embed.embed_items_notebook(docs_json, render_items);\n",
       "  }\n",
       "if (root.Bokeh !== undefined) {\n",
       "    embed_document(root);\n",
       "  } else {\n",
       "    var attempts = 0;\n",
       "    var timer = setInterval(function(root) {\n",
       "      if (root.Bokeh !== undefined) {\n",
       "        clearInterval(timer);\n",
       "        embed_document(root);\n",
       "      } else if (document.readyState == \"complete\") {\n",
       "        attempts++;\n",
       "        if (attempts > 100) {\n",
       "          clearInterval(timer);\n",
       "          console.log(\"Bokeh: ERROR: Unable to run BokehJS code because BokehJS library is missing\");\n",
       "        }\n",
       "      }\n",
       "    }, 10, root)\n",
       "  }\n",
       "})(window);</script>"
      ],
      "text/plain": [
       ":Bars   [index,Variable]   (value)"
      ]
     },
     "execution_count": 237,
     "metadata": {
      "application/vnd.holoviews_exec.v0+json": {
       "id": "10698"
      }
     },
     "output_type": "execute_result"
    }
   ],
   "source": [
    "_df = df.copy()\n",
    "_df['num_dvid_groups'] *= -1\n",
    "_df[['num_dvid_groups', 'num_clio_groups']].head(67).iloc[::-1].hvplot.barh(\n",
    "    stacked=True, title='unioned group counts', legend='bottom_right', height=700).opts(xlabel='union id', ylabel='number')"
   ]
  },
  {
   "cell_type": "markdown",
   "metadata": {},
   "source": [
    "### Plot connected components"
   ]
  },
  {
   "cell_type": "code",
   "execution_count": 415,
   "metadata": {},
   "outputs": [],
   "source": [
    "from networkx.classes.filters import show_nodes\n",
    "import hvplot.networkx as hvnx\n",
    "\n",
    "def plot_groups(row):\n",
    "    nodes = list(df.loc[row, 'cc'])\n",
    "    sg = nx.subgraph_view(g, show_nodes(nodes))\n",
    "\n",
    "    colors = []\n",
    "    for n in sg.nodes():\n",
    "        if isinstance(n, int):\n",
    "            colors.append('white')\n",
    "        elif n.startswith('dvid'):\n",
    "            colors.append('skyblue')\n",
    "        elif n.startswith('clio'):\n",
    "            colors.append('springgreen')\n",
    "        else:\n",
    "            assert False\n",
    "    \n",
    "    #pos = nx.spring_layout(sg)\n",
    "    pos = nx.kamada_kawai_layout(sg)\n",
    "    OFFSET = 0.02\n",
    "    label_pos = {n: (x, y+OFFSET) for n, (x,y) in pos.items()}\n",
    "    \n",
    "    pn = hvnx.draw(sg, pos=pos, node_color=colors)\n",
    "    pl = hvnx.draw_networkx_labels(sg, label_pos)\n",
    "    \n",
    "    p = pn * pl\n",
    "    p = p.opts(height=800, width=1000)\n",
    "    return p"
   ]
  },
  {
   "cell_type": "code",
   "execution_count": 417,
   "metadata": {},
   "outputs": [
    {
     "data": {
      "application/vnd.jupyter.widget-view+json": {
       "model_id": "4093f3c561464f5ca9a279e8e6af868b",
       "version_major": 2,
       "version_minor": 0
      },
      "text/plain": [
       "  0%|          | 0/65 [00:00<?, ?it/s]"
      ]
     },
     "metadata": {},
     "output_type": "display_data"
    }
   ],
   "source": [
    "from bokeh.plotting import output_file, save as bokeh_save\n",
    "\n",
    "for i in tqdm_proxy(range(65)):\n",
    "    p = plot_groups(i)\n",
    "    output_file(filename=f'/tmp/body-grouping-plots/{i:02d}.html', title=f'body-group-set-{i}')\n",
    "    bokeh_save(hv.render(p))"
   ]
  },
  {
   "cell_type": "code",
   "execution_count": 419,
   "metadata": {},
   "outputs": [],
   "source": [
    "df.rename_axis('set')[['num_bodies', 'num_dvid_groups', 'num_clio_groups', 'dvid_groups', 'clio_groups', 'bodies']].to_csv('/tmp/body-grouping-sets.tsv', sep='\\t')"
   ]
  },
  {
   "cell_type": "code",
   "execution_count": 407,
   "metadata": {},
   "outputs": [
    {
     "data": {
      "text/plain": [
       "429"
      ]
     },
     "execution_count": 407,
     "metadata": {},
     "output_type": "execute_result"
    }
   ],
   "source": [
    "df.iloc[:65]['num_bodies'].sum()"
   ]
  },
  {
   "cell_type": "code",
   "execution_count": 405,
   "metadata": {},
   "outputs": [
    {
     "data": {
      "text/plain": [
       "4493"
      ]
     },
     "execution_count": 405,
     "metadata": {},
     "output_type": "execute_result"
    }
   ],
   "source": [
    "df.iloc[65:]['num_bodies'].sum()"
   ]
  },
  {
   "cell_type": "code",
   "execution_count": 420,
   "metadata": {},
   "outputs": [
    {
     "data": {
      "text/plain": [
       "(4915, 3)"
      ]
     },
     "execution_count": 420,
     "metadata": {},
     "output_type": "execute_result"
    }
   ],
   "source": [
    "dvid_ann.shape"
   ]
  },
  {
   "cell_type": "code",
   "execution_count": 408,
   "metadata": {},
   "outputs": [
    {
     "data": {
      "text/plain": [
       "4922"
      ]
     },
     "execution_count": 408,
     "metadata": {},
     "output_type": "execute_result"
    }
   ],
   "source": [
    "df.num_bodies.sum()"
   ]
  },
  {
   "cell_type": "code",
   "execution_count": 385,
   "metadata": {},
   "outputs": [
    {
     "data": {
      "text/html": [
       "<div>\n",
       "<style scoped>\n",
       "    .dataframe tbody tr th:only-of-type {\n",
       "        vertical-align: middle;\n",
       "    }\n",
       "\n",
       "    .dataframe tbody tr th {\n",
       "        vertical-align: top;\n",
       "    }\n",
       "\n",
       "    .dataframe thead th {\n",
       "        text-align: right;\n",
       "    }\n",
       "</style>\n",
       "<table border=\"1\" class=\"dataframe\">\n",
       "  <thead>\n",
       "    <tr style=\"text-align: right;\">\n",
       "      <th></th>\n",
       "      <th>num_bodies</th>\n",
       "      <th>num_dvid_groups</th>\n",
       "      <th>num_clio_groups</th>\n",
       "      <th>bodies</th>\n",
       "      <th>dvid_groups</th>\n",
       "      <th>clio_groups</th>\n",
       "      <th>cc</th>\n",
       "    </tr>\n",
       "  </thead>\n",
       "  <tbody>\n",
       "    <tr>\n",
       "      <th>499</th>\n",
       "      <td>2</td>\n",
       "      <td>1</td>\n",
       "      <td>1</td>\n",
       "      <td>[13021, 13030]</td>\n",
       "      <td>[13021]</td>\n",
       "      <td>[13021]</td>\n",
       "      <td>{dvid_13021, clio_13021, 13021, 13030}</td>\n",
       "    </tr>\n",
       "    <tr>\n",
       "      <th>500</th>\n",
       "      <td>2</td>\n",
       "      <td>1</td>\n",
       "      <td>1</td>\n",
       "      <td>[15629, 13022]</td>\n",
       "      <td>[13022]</td>\n",
       "      <td>[13022]</td>\n",
       "      <td>{clio_13022, dvid_13022, 15629, 13022}</td>\n",
       "    </tr>\n",
       "    <tr>\n",
       "      <th>501</th>\n",
       "      <td>2</td>\n",
       "      <td>1</td>\n",
       "      <td>1</td>\n",
       "      <td>[13025, 14122]</td>\n",
       "      <td>[13025]</td>\n",
       "      <td>[13025]</td>\n",
       "      <td>{13025, 14122, dvid_13025, clio_13025}</td>\n",
       "    </tr>\n",
       "  </tbody>\n",
       "</table>\n",
       "</div>"
      ],
      "text/plain": [
       "     num_bodies  num_dvid_groups  num_clio_groups          bodies dvid_groups  \\\n",
       "499           2                1                1  [13021, 13030]     [13021]   \n",
       "500           2                1                1  [15629, 13022]     [13022]   \n",
       "501           2                1                1  [13025, 14122]     [13025]   \n",
       "\n",
       "    clio_groups                                      cc  \n",
       "499     [13021]  {dvid_13021, clio_13021, 13021, 13030}  \n",
       "500     [13022]  {clio_13022, dvid_13022, 15629, 13022}  \n",
       "501     [13025]  {13025, 14122, dvid_13025, clio_13025}  "
      ]
     },
     "execution_count": 385,
     "metadata": {},
     "output_type": "execute_result"
    }
   ],
   "source": [
    "df.loc[499:501]"
   ]
  },
  {
   "cell_type": "code",
   "execution_count": 421,
   "metadata": {},
   "outputs": [
    {
     "data": {},
     "metadata": {},
     "output_type": "display_data"
    },
    {
     "data": {
      "application/vnd.holoviews_exec.v0+json": "",
      "text/html": [
       "<div id='63937'>\n",
       "\n",
       "\n",
       "\n",
       "\n",
       "\n",
       "  <div class=\"bk-root\" id=\"bf99c942-a456-407c-b355-88647eae63f3\" data-root-id=\"63937\"></div>\n",
       "</div>\n",
       "<script type=\"application/javascript\">(function(root) {\n",
       "  function embed_document(root) {\n",
       "  var docs_json = {\"4e479470-ec80-4f59-8689-da2008c3ee7a\":{\"roots\":{\"references\":[{\"attributes\":{},\"id\":\"64000\",\"type\":\"NodesAndLinkedEdges\"},{\"attributes\":{},\"id\":\"64002\",\"type\":\"NodesAndLinkedEdges\"},{\"attributes\":{\"text\":{\"field\":\"index\"},\"text_align\":\"center\",\"text_alpha\":{\"value\":0.1},\"text_baseline\":\"middle\",\"text_color\":{\"value\":\"black\"},\"x\":{\"field\":\"x\"},\"y\":{\"field\":\"y\"}},\"id\":\"64008\",\"type\":\"Text\"},{\"attributes\":{\"below\":[{\"id\":\"63951\"}],\"center\":[{\"id\":\"63954\"},{\"id\":\"63958\"}],\"left\":[{\"id\":\"63955\"}],\"margin\":null,\"min_border_bottom\":10,\"min_border_left\":10,\"min_border_right\":10,\"min_border_top\":10,\"outline_line_alpha\":0,\"plot_height\":800,\"plot_width\":1000,\"renderers\":[{\"id\":\"63991\"},{\"id\":\"64009\"}],\"sizing_mode\":\"fixed\",\"title\":{\"id\":\"63943\"},\"toolbar\":{\"id\":\"63966\"},\"x_range\":{\"id\":\"63939\"},\"x_scale\":{\"id\":\"63947\"},\"y_range\":{\"id\":\"63940\"},\"y_scale\":{\"id\":\"63949\"}},\"id\":\"63942\",\"subtype\":\"Figure\",\"type\":\"Plot\"},{\"attributes\":{\"axis_label\":\"x\",\"bounds\":\"auto\",\"formatter\":{\"id\":\"63975\"},\"major_label_orientation\":\"horizontal\",\"ticker\":{\"id\":\"63952\"},\"visible\":false},\"id\":\"63951\",\"type\":\"LinearAxis\"},{\"attributes\":{\"overlay\":{\"id\":\"63965\"}},\"id\":\"63962\",\"type\":\"BoxZoomTool\"},{\"attributes\":{},\"id\":\"63956\",\"type\":\"BasicTicker\"},{\"attributes\":{\"text\":\"\",\"text_color\":{\"value\":\"black\"},\"text_font_size\":{\"value\":\"12pt\"}},\"id\":\"63943\",\"type\":\"Title\"},{\"attributes\":{\"source\":{\"id\":\"64004\"}},\"id\":\"64010\",\"type\":\"CDSView\"},{\"attributes\":{\"line_alpha\":{\"value\":0.2},\"line_width\":{\"value\":2}},\"id\":\"63987\",\"type\":\"MultiLine\"},{\"attributes\":{\"fill_alpha\":{\"value\":0.2},\"fill_color\":{\"value\":\"#30a2da\"},\"line_alpha\":{\"value\":0.2},\"size\":{\"units\":\"screen\",\"value\":15}},\"id\":\"63982\",\"type\":\"Circle\"},{\"attributes\":{\"source\":{\"id\":\"63978\"}},\"id\":\"63985\",\"type\":\"CDSView\"},{\"attributes\":{\"data\":{\"index\":{\"__ndarray__\":\"AAAAAAEAAAACAAAAAwAAAAQAAAAFAAAABgAAAAcAAAAIAAAACQAAAA==\",\"dtype\":\"int32\",\"order\":\"little\",\"shape\":[10]},\"index_hover\":[\"dvid_43492\",\"43492\",\"28965\",\"156909\",\"clio_25784\",\"dvid_27707\",\"25937\",\"dvid_25784\",\"25784\",\"27707\"],\"node_fill_color\":[\"skyblue\",\"white\",\"white\",\"white\",\"springgreen\",\"skyblue\",\"white\",\"skyblue\",\"white\",\"white\"]},\"selected\":{\"id\":\"64022\"},\"selection_policy\":{\"id\":\"64021\"}},\"id\":\"63978\",\"type\":\"ColumnDataSource\"},{\"attributes\":{\"graph_layout\":{\"0\":[0.665228538162888,-0.09236463595814698],\"1\":[1.0,-0.12259693200546928],\"2\":[-0.5031121194036862,0.8728727206529698],\"3\":[-0.38527192267076776,-0.2654981498295892],\"4\":[-0.055949924686919374,-0.08448604148628219],\"5\":[-0.34467044542053504,0.5764240659103715],\"6\":[0.3189593919481578,-0.07365988836258397],\"7\":[-0.4088031953356211,-0.6172819539209723],\"8\":[-0.09409441027795373,-0.4583342730539063],\"9\":[-0.19228591231556247,0.2649250880536087]}},\"id\":\"63980\",\"type\":\"StaticLayoutProvider\"},{\"attributes\":{\"line_width\":{\"value\":2}},\"id\":\"63986\",\"type\":\"MultiLine\"},{\"attributes\":{},\"id\":\"64019\",\"type\":\"UnionRenderers\"},{\"attributes\":{},\"id\":\"64005\",\"type\":\"Selection\"},{\"attributes\":{\"active_drag\":\"auto\",\"active_inspect\":\"auto\",\"active_multi\":null,\"active_scroll\":\"auto\",\"active_tap\":\"auto\",\"tools\":[{\"id\":\"63941\"},{\"id\":\"63959\"},{\"id\":\"63960\"},{\"id\":\"63961\"},{\"id\":\"63962\"},{\"id\":\"63963\"},{\"id\":\"63964\"}]},\"id\":\"63966\",\"type\":\"Toolbar\"},{\"attributes\":{\"axis_label\":\"y\",\"bounds\":\"auto\",\"formatter\":{\"id\":\"63977\"},\"major_label_orientation\":\"horizontal\",\"ticker\":{\"id\":\"63956\"},\"visible\":false},\"id\":\"63955\",\"type\":\"LinearAxis\"},{\"attributes\":{},\"id\":\"64020\",\"type\":\"Selection\"},{\"attributes\":{},\"id\":\"64022\",\"type\":\"Selection\"},{\"attributes\":{\"axis\":{\"id\":\"63955\"},\"dimension\":1,\"grid_line_color\":null,\"ticker\":null},\"id\":\"63958\",\"type\":\"Grid\"},{\"attributes\":{\"data\":{\"index\":[\"dvid_43492\",\"43492\",\"28965\",\"156909\",\"clio_25784\",\"dvid_27707\",\"25937\",\"dvid_25784\",\"25784\",\"27707\"],\"x\":{\"__ndarray__\":\"1ND4W41J5T8AAAAAAADwPyvsYZZ+GeC/AQj8kEuo2L8t63zxd6WsvyKnvqAUD9a/LtdKp9Rp1D/t353g1Cnav/BV4T6SFri/GD1wJNOcyL8=\",\"dtype\":\"float64\",\"order\":\"little\",\"shape\":[10]},\"y\":{\"__ndarray__\":\"hcLTIH2Gsr85KKLjykO6v9g91s9pkuw/YZBfvntsz7+taTs/KIKwv5M8NOznFeM/cqU/E095q78ZnFIL7xzjv6bg3jGrDdy/yALAbzY80j8=\",\"dtype\":\"float64\",\"order\":\"little\",\"shape\":[10]}},\"selected\":{\"id\":\"64005\"},\"selection_policy\":{\"id\":\"64017\"}},\"id\":\"64004\",\"type\":\"ColumnDataSource\"},{\"attributes\":{},\"id\":\"64021\",\"type\":\"UnionRenderers\"},{\"attributes\":{\"axis\":{\"id\":\"63951\"},\"grid_line_color\":null,\"ticker\":null},\"id\":\"63954\",\"type\":\"Grid\"},{\"attributes\":{\"source\":{\"id\":\"63979\"}},\"id\":\"63990\",\"type\":\"CDSView\"},{\"attributes\":{},\"id\":\"63960\",\"type\":\"PanTool\"},{\"attributes\":{},\"id\":\"63952\",\"type\":\"BasicTicker\"},{\"attributes\":{},\"id\":\"63975\",\"type\":\"BasicTickFormatter\"},{\"attributes\":{\"line_color\":{\"value\":\"limegreen\"},\"line_width\":{\"value\":2}},\"id\":\"63988\",\"type\":\"MultiLine\"},{\"attributes\":{\"data_source\":{\"id\":\"63978\"},\"glyph\":{\"id\":\"63981\"},\"hover_glyph\":{\"id\":\"63983\"},\"muted_glyph\":null,\"nonselection_glyph\":{\"id\":\"63982\"},\"selection_glyph\":null,\"view\":{\"id\":\"63985\"}},\"id\":\"63984\",\"type\":\"GlyphRenderer\"},{\"attributes\":{},\"id\":\"63949\",\"type\":\"LinearScale\"},{\"attributes\":{\"margin\":[5,5,5,5],\"name\":\"HSpacer140645\",\"sizing_mode\":\"stretch_width\"},\"id\":\"63938\",\"type\":\"Spacer\"},{\"attributes\":{\"data_source\":{\"id\":\"63979\"},\"glyph\":{\"id\":\"63986\"},\"hover_glyph\":{\"id\":\"63988\"},\"muted_glyph\":null,\"nonselection_glyph\":{\"id\":\"63987\"},\"selection_glyph\":null,\"view\":{\"id\":\"63990\"}},\"id\":\"63989\",\"type\":\"GlyphRenderer\"},{\"attributes\":{\"bottom_units\":\"screen\",\"fill_alpha\":0.5,\"fill_color\":\"lightgrey\",\"left_units\":\"screen\",\"level\":\"overlay\",\"line_alpha\":1.0,\"line_color\":\"black\",\"line_dash\":[4,4],\"line_width\":2,\"right_units\":\"screen\",\"top_units\":\"screen\"},\"id\":\"63965\",\"type\":\"BoxAnnotation\"},{\"attributes\":{\"children\":[{\"id\":\"63938\"},{\"id\":\"63942\"},{\"id\":\"64119\"}],\"margin\":[0,0,0,0],\"name\":\"Row140641\",\"tags\":[\"embedded\"]},\"id\":\"63937\",\"type\":\"Row\"},{\"attributes\":{\"callback\":null},\"id\":\"63964\",\"type\":\"TapTool\"},{\"attributes\":{\"fill_color\":{\"field\":\"node_fill_color\"},\"size\":{\"units\":\"screen\",\"value\":15}},\"id\":\"63981\",\"type\":\"Circle\"},{\"attributes\":{\"data_source\":{\"id\":\"64004\"},\"glyph\":{\"id\":\"64007\"},\"hover_glyph\":null,\"muted_glyph\":null,\"nonselection_glyph\":{\"id\":\"64008\"},\"selection_glyph\":null,\"view\":{\"id\":\"64010\"}},\"id\":\"64009\",\"type\":\"GlyphRenderer\"},{\"attributes\":{},\"id\":\"63977\",\"type\":\"BasicTickFormatter\"},{\"attributes\":{\"fill_color\":{\"value\":\"limegreen\"},\"size\":{\"units\":\"screen\",\"value\":15}},\"id\":\"63983\",\"type\":\"Circle\"},{\"attributes\":{},\"id\":\"63947\",\"type\":\"LinearScale\"},{\"attributes\":{\"end\":1.043888188110364,\"reset_end\":1.043888188110364,\"reset_start\":-0.7682974213783665,\"start\":-0.7682974213783665,\"tags\":[[[\"y\",\"y\",null]]]},\"id\":\"63940\",\"type\":\"Range1d\"},{\"attributes\":{\"edge_renderer\":{\"id\":\"63989\"},\"inspection_policy\":{\"id\":\"64002\"},\"layout_provider\":{\"id\":\"63980\"},\"node_renderer\":{\"id\":\"63984\"},\"selection_policy\":{\"id\":\"64000\"}},\"id\":\"63991\",\"type\":\"GraphRenderer\"},{\"attributes\":{},\"id\":\"63961\",\"type\":\"WheelZoomTool\"},{\"attributes\":{\"text\":{\"field\":\"index\"},\"text_align\":\"center\",\"text_baseline\":\"middle\",\"text_color\":{\"value\":\"black\"},\"x\":{\"field\":\"x\"},\"y\":{\"field\":\"y\"}},\"id\":\"64007\",\"type\":\"Text\"},{\"attributes\":{},\"id\":\"63963\",\"type\":\"ResetTool\"},{\"attributes\":{},\"id\":\"64017\",\"type\":\"UnionRenderers\"},{\"attributes\":{\"end\":1.1202489695522948,\"reset_end\":1.1202489695522948,\"reset_start\":-0.6233610889559811,\"start\":-0.6233610889559811,\"tags\":[[[\"x\",\"x\",null]]]},\"id\":\"63939\",\"type\":\"Range1d\"},{\"attributes\":{},\"id\":\"63959\",\"type\":\"SaveTool\"},{\"attributes\":{\"data\":{\"end\":{\"__ndarray__\":\"BgAAAAEAAAAFAAAABwAAAAQAAAAIAAAABgAAAAkAAAAJAAAACAAAAA==\",\"dtype\":\"int32\",\"order\":\"little\",\"shape\":[10]},\"start\":{\"__ndarray__\":\"AAAAAAAAAAACAAAAAwAAAAMAAAAEAAAABAAAAAQAAAAFAAAABwAAAA==\",\"dtype\":\"int32\",\"order\":\"little\",\"shape\":[10]}},\"selected\":{\"id\":\"64020\"},\"selection_policy\":{\"id\":\"64019\"}},\"id\":\"63979\",\"type\":\"ColumnDataSource\"},{\"attributes\":{\"callback\":null,\"renderers\":[{\"id\":\"63991\"}],\"tooltips\":[[\"index\",\"@{index_hover}\"]]},\"id\":\"63941\",\"type\":\"HoverTool\"},{\"attributes\":{\"margin\":[5,5,5,5],\"name\":\"HSpacer140646\",\"sizing_mode\":\"stretch_width\"},\"id\":\"64119\",\"type\":\"Spacer\"}],\"root_ids\":[\"63937\"]},\"title\":\"Bokeh Application\",\"version\":\"2.2.3\"}};\n",
       "  var render_items = [{\"docid\":\"4e479470-ec80-4f59-8689-da2008c3ee7a\",\"root_ids\":[\"63937\"],\"roots\":{\"63937\":\"bf99c942-a456-407c-b355-88647eae63f3\"}}];\n",
       "  root.Bokeh.embed.embed_items_notebook(docs_json, render_items);\n",
       "  }\n",
       "if (root.Bokeh !== undefined) {\n",
       "    embed_document(root);\n",
       "  } else {\n",
       "    var attempts = 0;\n",
       "    var timer = setInterval(function(root) {\n",
       "      if (root.Bokeh !== undefined) {\n",
       "        clearInterval(timer);\n",
       "        embed_document(root);\n",
       "      } else if (document.readyState == \"complete\") {\n",
       "        attempts++;\n",
       "        if (attempts > 100) {\n",
       "          clearInterval(timer);\n",
       "          console.log(\"Bokeh: ERROR: Unable to run BokehJS code because BokehJS library is missing\");\n",
       "        }\n",
       "      }\n",
       "    }, 10, root)\n",
       "  }\n",
       "})(window);</script>"
      ],
      "text/plain": [
       ":Overlay\n",
       "   .Graph.I  :Graph   [start,end]\n",
       "   .Labels.I :Labels   [x,y]   (index)"
      ]
     },
     "execution_count": 421,
     "metadata": {
      "application/vnd.holoviews_exec.v0+json": {
       "id": "63937"
      }
     },
     "output_type": "execute_result"
    }
   ],
   "source": [
    "plot_groups(15)"
   ]
  },
  {
   "cell_type": "code",
   "execution_count": 392,
   "metadata": {},
   "outputs": [
    {
     "data": {
      "text/plain": [
       "body ID                                                         27228\n",
       "class                                                             NaN\n",
       "status                                          Prelim Roughly traced\n",
       "user                                                        takemuras\n",
       "naming user                                                 takemuras\n",
       "instance                                                      25262_R\n",
       "status user                                                    lohffa\n",
       "last_modified_by                                                  NaN\n",
       "instance_user                                                     NaN\n",
       "comment                                                           NaN\n",
       "json                {'body ID': 27228, 'status': 'Prelim Roughly t...\n",
       "Name: 27228, dtype: object"
      ]
     },
     "execution_count": 392,
     "metadata": {},
     "output_type": "execute_result"
    }
   ],
   "source": [
    "dvid_ann_orig.loc[27228]"
   ]
  },
  {
   "cell_type": "code",
   "execution_count": 395,
   "metadata": {},
   "outputs": [
    {
     "data": {
      "text/plain": [
       "bodyid\n",
       "25262    22986\n",
       "22986    22986\n",
       "Name: group, dtype: object"
      ]
     },
     "execution_count": 395,
     "metadata": {},
     "output_type": "execute_result"
    }
   ],
   "source": [
    "clio_ann_orig.set_index('bodyid').loc[[25262, 22986], 'group']"
   ]
  },
  {
   "cell_type": "code",
   "execution_count": 387,
   "metadata": {},
   "outputs": [
    {
     "data": {
      "text/html": [
       "<div>\n",
       "<style scoped>\n",
       "    .dataframe tbody tr th:only-of-type {\n",
       "        vertical-align: middle;\n",
       "    }\n",
       "\n",
       "    .dataframe tbody tr th {\n",
       "        vertical-align: top;\n",
       "    }\n",
       "\n",
       "    .dataframe thead th {\n",
       "        text-align: right;\n",
       "    }\n",
       "</style>\n",
       "<table border=\"1\" class=\"dataframe\">\n",
       "  <thead>\n",
       "    <tr style=\"text-align: right;\">\n",
       "      <th></th>\n",
       "      <th>body ID</th>\n",
       "      <th>class</th>\n",
       "      <th>status</th>\n",
       "      <th>user</th>\n",
       "      <th>naming user</th>\n",
       "      <th>instance</th>\n",
       "      <th>status user</th>\n",
       "      <th>last_modified_by</th>\n",
       "      <th>instance_user</th>\n",
       "      <th>comment</th>\n",
       "      <th>json</th>\n",
       "    </tr>\n",
       "    <tr>\n",
       "      <th>body</th>\n",
       "      <th></th>\n",
       "      <th></th>\n",
       "      <th></th>\n",
       "      <th></th>\n",
       "      <th></th>\n",
       "      <th></th>\n",
       "      <th></th>\n",
       "      <th></th>\n",
       "      <th></th>\n",
       "      <th></th>\n",
       "      <th></th>\n",
       "    </tr>\n",
       "  </thead>\n",
       "  <tbody>\n",
       "    <tr>\n",
       "      <th>43616</th>\n",
       "      <td>43616</td>\n",
       "      <td>NaN</td>\n",
       "      <td>Prelim Roughly traced</td>\n",
       "      <td>smithc</td>\n",
       "      <td>costam</td>\n",
       "      <td>26089_L</td>\n",
       "      <td>smithc</td>\n",
       "      <td>NaN</td>\n",
       "      <td>NaN</td>\n",
       "      <td>NaN</td>\n",
       "      <td>{'body ID': 43616, 'status': 'Prelim Roughly t...</td>\n",
       "    </tr>\n",
       "    <tr>\n",
       "      <th>42273</th>\n",
       "      <td>42273</td>\n",
       "      <td>NaN</td>\n",
       "      <td>Prelim Roughly traced</td>\n",
       "      <td>ribeiroc</td>\n",
       "      <td>costam</td>\n",
       "      <td>26089_L</td>\n",
       "      <td>ribeiroc</td>\n",
       "      <td>NaN</td>\n",
       "      <td>NaN</td>\n",
       "      <td>NaN</td>\n",
       "      <td>{'body ID': 42273, 'status': 'Prelim Roughly t...</td>\n",
       "    </tr>\n",
       "    <tr>\n",
       "      <th>31170</th>\n",
       "      <td>31170</td>\n",
       "      <td>NaN</td>\n",
       "      <td>Prelim Roughly traced</td>\n",
       "      <td>cookm</td>\n",
       "      <td>costam</td>\n",
       "      <td>26089_L</td>\n",
       "      <td>cookm</td>\n",
       "      <td>NaN</td>\n",
       "      <td>NaN</td>\n",
       "      <td>NaN</td>\n",
       "      <td>{'body ID': 31170, 'status': 'Prelim Roughly t...</td>\n",
       "    </tr>\n",
       "    <tr>\n",
       "      <th>26089</th>\n",
       "      <td>26089</td>\n",
       "      <td>NaN</td>\n",
       "      <td>Prelim Roughly traced</td>\n",
       "      <td>smithc</td>\n",
       "      <td>costam</td>\n",
       "      <td>26089_L</td>\n",
       "      <td>NaN</td>\n",
       "      <td>NaN</td>\n",
       "      <td>NaN</td>\n",
       "      <td>NaN</td>\n",
       "      <td>{'body ID': 26089, 'status': 'Prelim Roughly t...</td>\n",
       "    </tr>\n",
       "    <tr>\n",
       "      <th>46922</th>\n",
       "      <td>46922</td>\n",
       "      <td>NaN</td>\n",
       "      <td>Prelim Roughly traced</td>\n",
       "      <td>phillipse2</td>\n",
       "      <td>costam</td>\n",
       "      <td>26089_L</td>\n",
       "      <td>phillipse2</td>\n",
       "      <td>NaN</td>\n",
       "      <td>NaN</td>\n",
       "      <td>NaN</td>\n",
       "      <td>{'body ID': 46922, 'status': 'Prelim Roughly t...</td>\n",
       "    </tr>\n",
       "    <tr>\n",
       "      <th>42673</th>\n",
       "      <td>42673</td>\n",
       "      <td>NaN</td>\n",
       "      <td>Prelim Roughly traced</td>\n",
       "      <td>smithc</td>\n",
       "      <td>costam</td>\n",
       "      <td>26089_L</td>\n",
       "      <td>smithc</td>\n",
       "      <td>NaN</td>\n",
       "      <td>NaN</td>\n",
       "      <td>NaN</td>\n",
       "      <td>{'body ID': 42673, 'status': 'Prelim Roughly t...</td>\n",
       "    </tr>\n",
       "    <tr>\n",
       "      <th>33074</th>\n",
       "      <td>33074</td>\n",
       "      <td>NaN</td>\n",
       "      <td>Prelim Roughly traced</td>\n",
       "      <td>baileyd2</td>\n",
       "      <td>costam</td>\n",
       "      <td>26089_L</td>\n",
       "      <td>baileyd2</td>\n",
       "      <td>NaN</td>\n",
       "      <td>NaN</td>\n",
       "      <td>NaN</td>\n",
       "      <td>{'body ID': 33074, 'status': 'Prelim Roughly t...</td>\n",
       "    </tr>\n",
       "    <tr>\n",
       "      <th>42130</th>\n",
       "      <td>42130</td>\n",
       "      <td>NaN</td>\n",
       "      <td>Prelim Roughly traced</td>\n",
       "      <td>baileyd2</td>\n",
       "      <td>costam</td>\n",
       "      <td>26089_L</td>\n",
       "      <td>baileyd2</td>\n",
       "      <td>NaN</td>\n",
       "      <td>NaN</td>\n",
       "      <td>NaN</td>\n",
       "      <td>{'body ID': 42130, 'status': 'Prelim Roughly t...</td>\n",
       "    </tr>\n",
       "    <tr>\n",
       "      <th>52357208220</th>\n",
       "      <td>52357208220</td>\n",
       "      <td>NaN</td>\n",
       "      <td>Prelim Roughly traced</td>\n",
       "      <td>smithc</td>\n",
       "      <td>costam</td>\n",
       "      <td>26089_L</td>\n",
       "      <td>smithc</td>\n",
       "      <td>NaN</td>\n",
       "      <td>NaN</td>\n",
       "      <td>NaN</td>\n",
       "      <td>{'body ID': 52357208220, 'status': 'Prelim Rou...</td>\n",
       "    </tr>\n",
       "    <tr>\n",
       "      <th>47230</th>\n",
       "      <td>47230</td>\n",
       "      <td>NaN</td>\n",
       "      <td>Prelim Roughly traced</td>\n",
       "      <td>phillipse2</td>\n",
       "      <td>costam</td>\n",
       "      <td>26089_L</td>\n",
       "      <td>phillipse2</td>\n",
       "      <td>NaN</td>\n",
       "      <td>NaN</td>\n",
       "      <td>NaN</td>\n",
       "      <td>{'body ID': 47230, 'status': 'Prelim Roughly t...</td>\n",
       "    </tr>\n",
       "  </tbody>\n",
       "</table>\n",
       "</div>"
      ],
      "text/plain": [
       "                 body ID class                 status        user naming user  \\\n",
       "body                                                                            \n",
       "43616              43616   NaN  Prelim Roughly traced      smithc      costam   \n",
       "42273              42273   NaN  Prelim Roughly traced    ribeiroc      costam   \n",
       "31170              31170   NaN  Prelim Roughly traced       cookm      costam   \n",
       "26089              26089   NaN  Prelim Roughly traced      smithc      costam   \n",
       "46922              46922   NaN  Prelim Roughly traced  phillipse2      costam   \n",
       "42673              42673   NaN  Prelim Roughly traced      smithc      costam   \n",
       "33074              33074   NaN  Prelim Roughly traced    baileyd2      costam   \n",
       "42130              42130   NaN  Prelim Roughly traced    baileyd2      costam   \n",
       "52357208220  52357208220   NaN  Prelim Roughly traced      smithc      costam   \n",
       "47230              47230   NaN  Prelim Roughly traced  phillipse2      costam   \n",
       "\n",
       "            instance status user last_modified_by instance_user comment  \\\n",
       "body                                                                      \n",
       "43616        26089_L      smithc              NaN           NaN     NaN   \n",
       "42273        26089_L    ribeiroc              NaN           NaN     NaN   \n",
       "31170        26089_L       cookm              NaN           NaN     NaN   \n",
       "26089        26089_L         NaN              NaN           NaN     NaN   \n",
       "46922        26089_L  phillipse2              NaN           NaN     NaN   \n",
       "42673        26089_L      smithc              NaN           NaN     NaN   \n",
       "33074        26089_L    baileyd2              NaN           NaN     NaN   \n",
       "42130        26089_L    baileyd2              NaN           NaN     NaN   \n",
       "52357208220  26089_L      smithc              NaN           NaN     NaN   \n",
       "47230        26089_L  phillipse2              NaN           NaN     NaN   \n",
       "\n",
       "                                                          json  \n",
       "body                                                            \n",
       "43616        {'body ID': 43616, 'status': 'Prelim Roughly t...  \n",
       "42273        {'body ID': 42273, 'status': 'Prelim Roughly t...  \n",
       "31170        {'body ID': 31170, 'status': 'Prelim Roughly t...  \n",
       "26089        {'body ID': 26089, 'status': 'Prelim Roughly t...  \n",
       "46922        {'body ID': 46922, 'status': 'Prelim Roughly t...  \n",
       "42673        {'body ID': 42673, 'status': 'Prelim Roughly t...  \n",
       "33074        {'body ID': 33074, 'status': 'Prelim Roughly t...  \n",
       "42130        {'body ID': 42130, 'status': 'Prelim Roughly t...  \n",
       "52357208220  {'body ID': 52357208220, 'status': 'Prelim Rou...  \n",
       "47230        {'body ID': 47230, 'status': 'Prelim Roughly t...  "
      ]
     },
     "execution_count": 387,
     "metadata": {},
     "output_type": "execute_result"
    }
   ],
   "source": [
    "dvid_ann_orig.loc[df.loc[1067, 'bodies']]"
   ]
  },
  {
   "cell_type": "code",
   "execution_count": 363,
   "metadata": {},
   "outputs": [
    {
     "data": {
      "text/html": [
       "<div>\n",
       "<style scoped>\n",
       "    .dataframe tbody tr th:only-of-type {\n",
       "        vertical-align: middle;\n",
       "    }\n",
       "\n",
       "    .dataframe tbody tr th {\n",
       "        vertical-align: top;\n",
       "    }\n",
       "\n",
       "    .dataframe thead th {\n",
       "        text-align: right;\n",
       "    }\n",
       "</style>\n",
       "<table border=\"1\" class=\"dataframe\">\n",
       "  <thead>\n",
       "    <tr style=\"text-align: right;\">\n",
       "      <th></th>\n",
       "      <th>num_bodies</th>\n",
       "      <th>num_dvid_groups</th>\n",
       "      <th>num_clio_groups</th>\n",
       "      <th>bodies</th>\n",
       "      <th>dvid_groups</th>\n",
       "      <th>clio_groups</th>\n",
       "      <th>cc</th>\n",
       "    </tr>\n",
       "  </thead>\n",
       "  <tbody>\n",
       "    <tr>\n",
       "      <th>1067</th>\n",
       "      <td>10</td>\n",
       "      <td>1</td>\n",
       "      <td>1</td>\n",
       "      <td>[43616, 42273, 31170, 26089, 46922, 42673, 330...</td>\n",
       "      <td>[26089]</td>\n",
       "      <td>[26089]</td>\n",
       "      <td>{43616, 42273, 31170, 26089, 46922, clio_26089...</td>\n",
       "    </tr>\n",
       "    <tr>\n",
       "      <th>1145</th>\n",
       "      <td>10</td>\n",
       "      <td>1</td>\n",
       "      <td>1</td>\n",
       "      <td>[34144, 45282, 43011, 45311, 34409, 40234, 381...</td>\n",
       "      <td>[34144]</td>\n",
       "      <td>[34144]</td>\n",
       "      <td>{34144, dvid_34144, 45282, 43011, 45311, 34409...</td>\n",
       "    </tr>\n",
       "  </tbody>\n",
       "</table>\n",
       "</div>"
      ],
      "text/plain": [
       "      num_bodies  num_dvid_groups  num_clio_groups  \\\n",
       "1067          10                1                1   \n",
       "1145          10                1                1   \n",
       "\n",
       "                                                 bodies dvid_groups  \\\n",
       "1067  [43616, 42273, 31170, 26089, 46922, 42673, 330...     [26089]   \n",
       "1145  [34144, 45282, 43011, 45311, 34409, 40234, 381...     [34144]   \n",
       "\n",
       "     clio_groups                                                 cc  \n",
       "1067     [26089]  {43616, 42273, 31170, 26089, 46922, clio_26089...  \n",
       "1145     [34144]  {34144, dvid_34144, 45282, 43011, 45311, 34409...  "
      ]
     },
     "execution_count": 363,
     "metadata": {},
     "output_type": "execute_result"
    }
   ],
   "source": [
    "df.query('num_dvid_groups == 1 and num_clio_groups == 1 and num_bodies == 10')"
   ]
  },
  {
   "cell_type": "code",
   "execution_count": 324,
   "metadata": {},
   "outputs": [
    {
     "data": {
      "text/plain": [
       "2562"
      ]
     },
     "execution_count": 324,
     "metadata": {},
     "output_type": "execute_result"
    }
   ],
   "source": [
    "df.query('num_dvid_groups == 1 and num_clio_groups == 1')['num_bodies'].sum()"
   ]
  },
  {
   "cell_type": "code",
   "execution_count": 183,
   "metadata": {},
   "outputs": [
    {
     "data": {
      "text/plain": [
       "4922"
      ]
     },
     "execution_count": 183,
     "metadata": {},
     "output_type": "execute_result"
    }
   ],
   "source": [
    "df['num_bodies'].sum()"
   ]
  },
  {
   "cell_type": "code",
   "execution_count": 179,
   "metadata": {},
   "outputs": [
    {
     "data": {
      "text/plain": [
       "body ID                                                         26027\n",
       "class                                                             NaN\n",
       "status                                          Prelim Roughly traced\n",
       "user                                                        takemuras\n",
       "naming user                                                       NaN\n",
       "instance                                                      25146_L\n",
       "status user                                                       NaN\n",
       "last_modified_by                                            takemuras\n",
       "instance_user                                                     NaN\n",
       "comment                                                           NaN\n",
       "json                {'user': 'takemuras', 'instance': '25146_L', '...\n",
       "Name: 26027, dtype: object"
      ]
     },
     "execution_count": 179,
     "metadata": {},
     "output_type": "execute_result"
    }
   ],
   "source": [
    "dvid_ann_orig.loc[26027]"
   ]
  },
  {
   "cell_type": "code",
   "execution_count": null,
   "metadata": {},
   "outputs": [],
   "source": []
  }
 ],
 "metadata": {
  "kernelspec": {
   "display_name": "Python 3",
   "language": "python",
   "name": "python3"
  },
  "language_info": {
   "codemirror_mode": {
    "name": "ipython",
    "version": 3
   },
   "file_extension": ".py",
   "mimetype": "text/x-python",
   "name": "python",
   "nbconvert_exporter": "python",
   "pygments_lexer": "ipython3",
   "version": "3.7.10"
  }
 },
 "nbformat": 4,
 "nbformat_minor": 4
}
